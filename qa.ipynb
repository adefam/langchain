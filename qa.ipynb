{
 "cells": [
  {
   "cell_type": "markdown",
   "metadata": {},
   "source": [
    "## Project: Question-Answering on Private documents"
   ]
  },
  {
   "cell_type": "code",
   "execution_count": 89,
   "metadata": {},
   "outputs": [
    {
     "data": {
      "text/plain": [
       "True"
      ]
     },
     "execution_count": 89,
     "metadata": {},
     "output_type": "execute_result"
    }
   ],
   "source": [
    "import os\n",
    "from dotenv import load_dotenv, find_dotenv\n",
    "load_dotenv(find_dotenv(), override=True)\n"
   ]
  },
  {
   "cell_type": "markdown",
   "metadata": {},
   "source": [
    "## Load PDF File "
   ]
  },
  {
   "cell_type": "code",
   "execution_count": 90,
   "metadata": {},
   "outputs": [
    {
     "name": "stdout",
     "output_type": "stream",
     "text": [
      "\n",
      "\u001b[1m[\u001b[0m\u001b[34;49mnotice\u001b[0m\u001b[1;39;49m]\u001b[0m\u001b[39;49m A new release of pip is available: \u001b[0m\u001b[31;49m23.2.1\u001b[0m\u001b[39;49m -> \u001b[0m\u001b[32;49m24.0\u001b[0m\n",
      "\u001b[1m[\u001b[0m\u001b[34;49mnotice\u001b[0m\u001b[1;39;49m]\u001b[0m\u001b[39;49m To update, run: \u001b[0m\u001b[32;49mpip3 install --upgrade pip\u001b[0m\n",
      "Note: you may need to restart the kernel to use updated packages.\n"
     ]
    }
   ],
   "source": [
    "pip install pypdf -q"
   ]
  },
  {
   "cell_type": "code",
   "execution_count": 91,
   "metadata": {},
   "outputs": [],
   "source": [
    "def load_document(file):\n",
    "    from langchain.document_loaders import PyPDFLoader\n",
    "    print(f'Loading {file}')\n",
    "    loader = PyPDFLoader(file)\n",
    "    data = loader.load()\n",
    "    return data"
   ]
  },
  {
   "cell_type": "markdown",
   "metadata": {},
   "source": [
    "### Start Running the Code"
   ]
  },
  {
   "cell_type": "code",
   "execution_count": 92,
   "metadata": {},
   "outputs": [
    {
     "name": "stdout",
     "output_type": "stream",
     "text": [
      "Loading ngConstitution.pdf\n"
     ]
    },
    {
     "name": "stdout",
     "output_type": "stream",
     "text": [
      "(5) The provisions of this Constitution in Part I of Chapter VIII hereof shall in relation to the Federal \n",
      "Capital Territory, Abuja, have effect in the manner set out thereunder. \n",
      "(6) There shall be 768 Local Government Areas in Nigeri a as shown in the second column of Part I of the \n",
      "First Schedule to this Constitution and six area councils as shown in Part II of that Schedule. \n",
      "  \n",
      "  \n",
      "  \n",
      "  \n",
      "Part II  \n",
      "  \n",
      "Powers of the Federal Republic of Nigeria \n",
      "  \n",
      "  \n",
      "4. (1) The legislative powers of the Federal Republic of Nigeria shall be vested in a National Assembly for \n",
      "the Federation, which shall consist of a Senate and a House of Representatives. \n",
      " \n",
      "(2) The National Assembly shall have power to make laws for the peace, order and good government of \n",
      "the Federation or any part thereof with respect to an y matter included in the Exclusive Legislative List set \n",
      "out in Part I of the Second Schedule to this Constitution.  \n",
      "(3) The power of the National Assembly to make laws for the peace, order and good government of the \n",
      "Federation with respect to any matter included in the Exclusive Legislative List shall, save as otherwise \n",
      "provided in this Constitution, be to the exclusion of the Houses of Assembly of States.  \n",
      "(4) In addition and without prejudice to the powers conferred by subsection (2 ) of this section, the \n",
      "National Assembly shall have power to make laws with respect to the following matters, that is to say:-  \n",
      "(a) any matter in the Concurrent Legislative List set out in the first column of \n",
      "Part II of the Second Schedule to this Constitution to the extent prescribed in \n",
      "the second column opposite thereto; and  \n",
      "(b) any other matter with respect to which it is empowered to make laws in \n",
      "accordance with the provisions  of this Constitution. \n",
      "(5) If any Law enacted by the House of Assembly of a State is inconsistent with any law validly made by \n",
      "the National Assembly, the law made by the National Asse mbly shall prevail, and that other Law shall, to \n",
      "the extent of the inconsistency, be void.  \n",
      "(6) The legislative powers of a State of the Federation shall be vested in the House of Assembly of the \n",
      "State.  (7) The House of Assembly of a State shall have pow er to make laws for the peace, order and good \n",
      "government of the State or any part thereof with respect to the following matters, that is to say:-  \n",
      "(a) any matter not included in the Exclusive Legislative List set out in Part I of \n",
      "the Second Schedule to this Constitution.  (b) any matter included in the Concurrent Legislative List set out in the first \n",
      "column of Part II of the Second Schedule to this Constitution to the extent \n",
      "prescribed in the second column opposite thereto; and  \n",
      "(c) any other matter with respect to which it is empowered to make laws in \n",
      "accordance with the provisions  of this Constitution. \n",
      "(8) Save as otherwise provided by this Constitution, the exercise of legislative powers by the National \n",
      "Assembly or by a House of Assembly shall be subject to  the jurisdiction of courts of law and of judicial \n",
      "tribunals established by law, and accordingly, the National Assembly or  a House of Assembly shall not \n",
      "enact any law, that ousts or purports to oust the juri sdiction of a court of law or of a judicial tribunal \n",
      "established by law.  (9) Notwithstanding the foregoing provisions of this  section, the National Assembly or a House of \n",
      "Assembly shall not, in relation to any criminal of fence whatsoever, have power to make any law which \n",
      "shall have retrospective effect. \n"
     ]
    }
   ],
   "source": [
    "data = load_document('ngConstitution.pdf')\n",
    "print(data[1].page_content)"
   ]
  },
  {
   "cell_type": "code",
   "execution_count": 93,
   "metadata": {},
   "outputs": [
    {
     "name": "stdout",
     "output_type": "stream",
     "text": [
      "Loading ngConstitution.pdf\n",
      "{'source': 'ngConstitution.pdf', 'page': 10}\n"
     ]
    }
   ],
   "source": [
    "data = load_document('ngConstitution.pdf')\n",
    "print(data[10].metadata)"
   ]
  },
  {
   "cell_type": "code",
   "execution_count": 94,
   "metadata": {},
   "outputs": [
    {
     "name": "stdout",
     "output_type": "stream",
     "text": [
      "Loading ngConstitution.pdf\n",
      "You have 118 pages in your data\n",
      "There are 3314 characters in the page\n"
     ]
    }
   ],
   "source": [
    "# Checking how many pages in my data\n",
    "data = load_document('ngConstitution.pdf')\n",
    "print(f'You have {len(data)} pages in your data')\n",
    "\n",
    "# Checking the number of character in a data\n",
    "print(f'There are {len(data[20].page_content)} characters in the page')"
   ]
  },
  {
   "cell_type": "markdown",
   "metadata": {},
   "source": [
    "### Document Format\n",
    "Uploading different document format of file"
   ]
  },
  {
   "cell_type": "code",
   "execution_count": 95,
   "metadata": {},
   "outputs": [
    {
     "name": "stdout",
     "output_type": "stream",
     "text": [
      "\n",
      "\u001b[1m[\u001b[0m\u001b[34;49mnotice\u001b[0m\u001b[1;39;49m]\u001b[0m\u001b[39;49m A new release of pip is available: \u001b[0m\u001b[31;49m23.2.1\u001b[0m\u001b[39;49m -> \u001b[0m\u001b[32;49m24.0\u001b[0m\n",
      "\u001b[1m[\u001b[0m\u001b[34;49mnotice\u001b[0m\u001b[1;39;49m]\u001b[0m\u001b[39;49m To update, run: \u001b[0m\u001b[32;49mpip3 install --upgrade pip\u001b[0m\n",
      "Note: you may need to restart the kernel to use updated packages.\n"
     ]
    }
   ],
   "source": [
    "pip install docx2txt -q"
   ]
  },
  {
   "cell_type": "code",
   "execution_count": 96,
   "metadata": {},
   "outputs": [],
   "source": [
    "def load_document(file):\n",
    "    import os\n",
    "    name, extension = os.path.splitext(file)\n",
    "\n",
    "    if extension == '.pdf':\n",
    "        from langchain.document_loaders import PyPDFLoader\n",
    "        print(f'Loading {file}')\n",
    "        loader = PyPDFLoader(file)\n",
    "    elif extension == '.docx':\n",
    "        from langchain.document_loaders import Docx2txtLoader\n",
    "        print(f'Loading {file}')\n",
    "        loader = Docx2txtLoader(file)\n",
    "    # Add all other format you wanted\n",
    "    else:\n",
    "        print('Document format is not supported')\n",
    "        return None\n",
    "    data = loader.load()\n",
    "    return data"
   ]
  },
  {
   "cell_type": "markdown",
   "metadata": {},
   "source": [
    "### Running Data"
   ]
  },
  {
   "cell_type": "code",
   "execution_count": 97,
   "metadata": {},
   "outputs": [
    {
     "name": "stdout",
     "output_type": "stream",
     "text": [
      "Loading podcast.docx\n",
      "INDIVIDUAL PODCAST\n",
      "\n",
      "\n",
      "\n",
      "\n",
      "\n",
      "Hello,\n",
      "\n",
      "Welcome to my podcast, I will be talking about HIV/AIDS which is my health campaign topic. The purpose is to help control HIV/AIDS in Nigeria and help everyone know their status.\n",
      "\n",
      "Symptoms of HIV/AIDS include night sweats, fatigue, weight loss, vomiting, skin rashes, etc. The transmission of this disease is through having unsafe sex and sharing equipment such as needles, blades, etc. Antiretroviral drugs help HIV/AIDS reduce the risks of transmission.\n",
      "\n",
      "\n",
      "\n",
      "\n",
      "\n",
      "I would like to include a story about an HIV patient, about a young lady called Joy who was diagnosed with HIV.This led to her family members mocking and leaving her and thus made the young lady destabilized. After some few months, she went for counseling and was given HIV drugs which are the antiretroviral drugs i mentioned previously. These brought about lots of changes in her and she opened her own organization to help people living with HIV/AIDS to gain their confidence and move on with their life.\n",
      "\n",
      "My target audience are teenagers and adults. So I would like to say that having safe sex, i.e. use of condom will help control the spread of HIV/AIDS. Regular checkups every three months to know one’s status, limiting the number of sexual partners will help to reduce the rate at which HIV is being spread. Choose a sexual partner wisely, abstaining from sex will help too. Let's help fight aids by spreading the information across the globe.\n"
     ]
    }
   ],
   "source": [
    "data = load_document('podcast.docx')\n",
    "print(data[0].page_content)"
   ]
  },
  {
   "cell_type": "markdown",
   "metadata": {},
   "source": [
    "## Public and Private Service Loaders"
   ]
  },
  {
   "cell_type": "markdown",
   "metadata": {},
   "source": [
    "Load from Wikipedia"
   ]
  },
  {
   "cell_type": "code",
   "execution_count": 98,
   "metadata": {},
   "outputs": [
    {
     "name": "stdout",
     "output_type": "stream",
     "text": [
      "\n",
      "\u001b[1m[\u001b[0m\u001b[34;49mnotice\u001b[0m\u001b[1;39;49m]\u001b[0m\u001b[39;49m A new release of pip is available: \u001b[0m\u001b[31;49m23.2.1\u001b[0m\u001b[39;49m -> \u001b[0m\u001b[32;49m24.0\u001b[0m\n",
      "\u001b[1m[\u001b[0m\u001b[34;49mnotice\u001b[0m\u001b[1;39;49m]\u001b[0m\u001b[39;49m To update, run: \u001b[0m\u001b[32;49mpip3 install --upgrade pip\u001b[0m\n",
      "Note: you may need to restart the kernel to use updated packages.\n"
     ]
    }
   ],
   "source": [
    "pip install wikipedia -q"
   ]
  },
  {
   "cell_type": "code",
   "execution_count": 99,
   "metadata": {},
   "outputs": [],
   "source": [
    "# Wikipedia\n",
    "def load_from_wikipedia(query, lang='en', load_max_docs=2):\n",
    "    from langchain.document_loaders import WikipediaLoader\n",
    "    loader = WikipediaLoader(query=query, lang=lang, load_max_docs=load_max_docs)\n",
    "    data = loader.load()\n",
    "    return data  "
   ]
  },
  {
   "cell_type": "code",
   "execution_count": 100,
   "metadata": {},
   "outputs": [
    {
     "name": "stdout",
     "output_type": "stream",
     "text": [
      "Chief Olusegun Matthew Okikiola Ogunboye Aremu Obasanjo  (  oh-BAH-sən-joh; Yoruba: Olúṣẹ́gun Ọbásanjọ́ [olúʃɛ́ɡũ ɔbásanɟɔ] ; born c. 5 March 1937) is a Nigerian retired military officer and statesman who served as Nigeria's head of state from 1976 to 1979 and later as its president from 1999 to 2007. Ideologically a Nigerian nationalist, he was a member of the Peoples Democratic Party (PDP) from 1998 to 2015, and since 2018.\n",
      "Born in the village of Ibogun-Olaogun to a farming family of the Owu branch of the Yoruba, Obasanjo was educated largely in Abeokuta, Ogun State. He joined the Nigerian Army and specialised in engineering and was assigned to the Congo, Britain, and India, rising to the rank of major. In the late 1960s, he played a senior role in combating Biafran separatists during the Nigerian Civil War, accepting their surrender in 1970. In 1975, a military coup established a junta with Obasanjo as part of its ruling triumvirate. After the triumvirate's leader, Murtala Muhammed, was assassinated the following year, the Supreme Military Council appointed Obasanjo as head of state. Continuing Murtala's policies, Obasanjo oversaw budgetary cut-backs and an expansion of access to free school education. Increasingly aligning Nigeria with the United States, he also emphasised support for groups opposing white minority rule in southern Africa. Committed to restoring democracy, Obasanjo oversaw the 1979 election, after which he transferred control of Nigeria to the newly elected civilian president, Shehu Shagari. Obasanjo then retired to Ota, Ogun, where he became a farmer, published four books, and took part in international initiatives to end various African conflicts.\n",
      "In 1993, Sani Abacha seized power in a military coup. Obasanjo was openly critical of Abacha's administration and in 1995 was arrested and convicted of being part of a planned coup, despite protesting his innocence. While imprisoned, he became a born again Christian, with providentialism strongly influencing his subsequent worldview. He was released following Abacha's death in 1998. Obasanjo entered electoral politics, becoming the PDP candidate for the 1999 presidential election which he won comfortably. As president, he de-politicised the military and both expanded the police and mobilised the army to combat widespread ethnic, religious, and secessionist violence. He withdrew Nigeria's military from Sierra Leone and privatised various public enterprises to limit the country's spiralling debt. He was re-elected in the 2003 election. Influenced by Pan-Africanist ideas, he was a keen supporter of the formation of the African Union and served as its chair from 2004 to 2006. Obasanjo's attempts to change the constitution to abolish presidential term limits were unsuccessful and brought criticism. After retiring, he earned a PhD in theology from the National Open University of Nigeria.\n",
      "Obasanjo has been described as one of the great figures of the second generation of post-colonial African leaders. He received praise both for overseeing Nigeria's transition to representative democracy in the 1970s and for his Pan-African efforts to encourage cooperation across the continent. Critics maintain that he was guilty of corruption, that his administrations oversaw human rights abuses, and that as president he became too interested in consolidating and maintaining his personal power.\n",
      "\n",
      "\n",
      "== Early life (1937–1958) ==\n",
      "Olusegun Matthew Okikiola Aremu Obasanjo (or\n",
      "Matthew Olusegun Aremu Obasanjo) was born in Ibogun-Olaogun, a village in southwest Nigeria. His later passport gave his date of birth as 5 March 1937, although this was a later estimate, with no contemporary records surviving. His father was Amos Adigun Obaluayesanjo \"Obasanjo\" Bankole and his mother was Bernice Ashabi Bankole. The first of nine children, only he and a sister (Adunni Oluwole Obasanjo) survived childhood. He was born to the Owu branch of the Yoruba people. The village church was part of a mission set u\n"
     ]
    }
   ],
   "source": [
    "data = load_from_wikipedia('Olusegun Obasanjo')\n",
    "print(data[0].page_content)"
   ]
  },
  {
   "cell_type": "markdown",
   "metadata": {},
   "source": [
    "### Chunking Strategies and Splithing the Document"
   ]
  },
  {
   "cell_type": "code",
   "execution_count": 101,
   "metadata": {},
   "outputs": [],
   "source": [
    "def chunk_data(data, chunk_size=256):\n",
    "    from langchain.text_splitter import RecursiveCharacterTextSplitter\n",
    "    text_splitter = RecursiveCharacterTextSplitter(chunk_size = chunk_size, chunk_overlap=0)\n",
    "    chunks = text_splitter.split_documents(data)\n",
    "    return chunks"
   ]
  },
  {
   "cell_type": "code",
   "execution_count": 102,
   "metadata": {},
   "outputs": [
    {
     "name": "stdout",
     "output_type": "stream",
     "text": [
      "Loading ngConstitution.pdf\n",
      "You have 118 pages in your data\n",
      "There are 3314 characters in the page\n"
     ]
    }
   ],
   "source": [
    "# Checking how many pages in my data\n",
    "data = load_document('ngConstitution.pdf')\n",
    "print(f'You have {len(data)} pages in your data')\n",
    "\n",
    "# Checking the number of character in a data\n",
    "print(f'There are {len(data[20].page_content)} characters in the page')"
   ]
  },
  {
   "cell_type": "code",
   "execution_count": 103,
   "metadata": {},
   "outputs": [
    {
     "name": "stdout",
     "output_type": "stream",
     "text": [
      "1892\n"
     ]
    }
   ],
   "source": [
    "chunks = chunk_data(data)\n",
    "print(len(chunks))"
   ]
  },
  {
   "cell_type": "code",
   "execution_count": 104,
   "metadata": {},
   "outputs": [
    {
     "name": "stdout",
     "output_type": "stream",
     "text": [
      "(5) The provisions of this Constitution in Part I of Chapter VIII hereof shall in relation to the Federal \n",
      "Capital Territory, Abuja, have effect in the manner set out thereunder.\n"
     ]
    }
   ],
   "source": [
    "# Print one of the chunks\n",
    "print(chunks[11].page_content)"
   ]
  },
  {
   "cell_type": "code",
   "execution_count": 105,
   "metadata": {},
   "outputs": [],
   "source": [
    "def print_embedding_cost(texts):\n",
    "    import tiktoken\n",
    "    enc = tiktoken.encoding_for_model('text-embedding-ada-002')\n",
    "    total_tokens = sum([len(enc.encode(page.page_content)) for page in texts])\n",
    "    print(f'Total Tokens: {total_tokens}')\n",
    "    print(f'Embodding Cost in USD: {total_tokens / 1000 * 0.0004:.6f}')"
   ]
  },
  {
   "cell_type": "code",
   "execution_count": 106,
   "metadata": {},
   "outputs": [
    {
     "name": "stdout",
     "output_type": "stream",
     "text": [
      "Total Tokens: 82159\n",
      "Embodding Cost in USD: 0.032864\n"
     ]
    }
   ],
   "source": [
    "print_embedding_cost(chunks)"
   ]
  },
  {
   "cell_type": "markdown",
   "metadata": {},
   "source": [
    "### Embedding and Uploading to a Vector Database (Pinecone)"
   ]
  },
  {
   "cell_type": "code",
   "execution_count": 107,
   "metadata": {},
   "outputs": [
    {
     "data": {
      "text/plain": [
       "True"
      ]
     },
     "execution_count": 107,
     "metadata": {},
     "output_type": "execute_result"
    }
   ],
   "source": [
    "# Embed Pinecone Api key from env file\n",
    "import os\n",
    "from dotenv import load_dotenv, find_dotenv\n",
    "load_dotenv(find_dotenv(), override=True)"
   ]
  },
  {
   "cell_type": "code",
   "execution_count": 108,
   "metadata": {},
   "outputs": [
    {
     "name": "stdout",
     "output_type": "stream",
     "text": [
      "\n",
      "\u001b[1m[\u001b[0m\u001b[34;49mnotice\u001b[0m\u001b[1;39;49m]\u001b[0m\u001b[39;49m A new release of pip is available: \u001b[0m\u001b[31;49m23.2.1\u001b[0m\u001b[39;49m -> \u001b[0m\u001b[32;49m24.0\u001b[0m\n",
      "\u001b[1m[\u001b[0m\u001b[34;49mnotice\u001b[0m\u001b[1;39;49m]\u001b[0m\u001b[39;49m To update, run: \u001b[0m\u001b[32;49mpip3 install --upgrade pip\u001b[0m\n",
      "Note: you may need to restart the kernel to use updated packages.\n"
     ]
    }
   ],
   "source": [
    "pip install -q pinecone-client"
   ]
  },
  {
   "cell_type": "code",
   "execution_count": 109,
   "metadata": {},
   "outputs": [
    {
     "name": "stdout",
     "output_type": "stream",
     "text": [
      "\n",
      "\u001b[1m[\u001b[0m\u001b[34;49mnotice\u001b[0m\u001b[1;39;49m]\u001b[0m\u001b[39;49m A new release of pip is available: \u001b[0m\u001b[31;49m23.2.1\u001b[0m\u001b[39;49m -> \u001b[0m\u001b[32;49m24.0\u001b[0m\n",
      "\u001b[1m[\u001b[0m\u001b[34;49mnotice\u001b[0m\u001b[1;39;49m]\u001b[0m\u001b[39;49m To update, run: \u001b[0m\u001b[32;49mpip3 install --upgrade pip\u001b[0m\n",
      "Note: you may need to restart the kernel to use updated packages.\n"
     ]
    }
   ],
   "source": [
    "pip install --upgrade -q pinecone-client"
   ]
  },
  {
   "cell_type": "code",
   "execution_count": 110,
   "metadata": {},
   "outputs": [],
   "source": [
    "def insert_or_fetch_embeddings(index_name, chunks):\n",
    "    import pinecone\n",
    "    from langchain_community.vectorstores import Pinecone\n",
    "    from langchain_openai import OpenAIEmbeddings\n",
    "    from pinecone import PodSpec\n",
    "\n",
    "    pc = pinecone.Pinecone()\n",
    "\n",
    "    embeddings = OpenAIEmbeddings(model='text-embedding-3-small', dimensions=1536)\n",
    "\n",
    "    if index_name in pc.list_indexes().names():\n",
    "        print(f'Index {index_name} already exists. Loading embeddings ...', end='')\n",
    "        vector_store = Pinecone.from_existing_index(index_name, embeddings)\n",
    "        print('ok')\n",
    "    else:\n",
    "        print(f'Creating index {index_name} and embeddings ...', end='')\n",
    "        pc.create_index(\n",
    "            name=index_name,\n",
    "            dimension=1536,\n",
    "            metric='cosine',\n",
    "            spec=PodSpec(environment='gcp-starter')\n",
    "        )\n",
    "        vector_store = Pinecone.from_documents(chunks, embeddings, index_name=index_name)\n",
    "        print('Ok')\n",
    "        return vector_store"
   ]
  },
  {
   "cell_type": "code",
   "execution_count": 111,
   "metadata": {},
   "outputs": [],
   "source": [
    "def delete_pinecone_index(index_name='all'):\n",
    "    import pinecone\n",
    "    pc = pinecone.Pinecone()\n",
    "    if index_name == 'all':\n",
    "        indexes = pc.list_indexes().names()\n",
    "        print('Deleting all indexes ... ')\n",
    "        for index in indexes:\n",
    "            pc.delete_index(index)\n",
    "        print('ok')\n",
    "    else:\n",
    "        print(f'Deleting index {index_name} ...', end='')\n",
    "        pc.delete_index(index_name)\n",
    "        print('ok')"
   ]
  },
  {
   "cell_type": "code",
   "execution_count": 112,
   "metadata": {},
   "outputs": [
    {
     "name": "stdout",
     "output_type": "stream",
     "text": [
      "Deleting all indexes ... \n",
      "ok\n"
     ]
    }
   ],
   "source": [
    "# Delete All Indexes in PineCone 'app.pinecone.io'\n",
    "delete_pinecone_index()\n"
   ]
  },
  {
   "cell_type": "code",
   "execution_count": 113,
   "metadata": {},
   "outputs": [
    {
     "name": "stdout",
     "output_type": "stream",
     "text": [
      "1892\n"
     ]
    }
   ],
   "source": [
    "chunks = chunk_data(data)\n",
    "print(len(chunks))"
   ]
  },
  {
   "cell_type": "code",
   "execution_count": 114,
   "metadata": {},
   "outputs": [
    {
     "name": "stdout",
     "output_type": "stream",
     "text": [
      "Creating index askadocument and embeddings ...Ok\n"
     ]
    }
   ],
   "source": [
    "index_name  =  'askadocument'\n",
    "vector_store = insert_or_fetch_embeddings(index_name, chunks)"
   ]
  },
  {
   "cell_type": "markdown",
   "metadata": {},
   "source": [
    "### Asking and Getting Answers"
   ]
  },
  {
   "cell_type": "code",
   "execution_count": 115,
   "metadata": {},
   "outputs": [],
   "source": [
    "def ask_and_get_answer(vector_store, q):\n",
    "    from langchain.chains import RetrievalQA\n",
    "    from langchain.chat_models import ChatOpenAI\n",
    "\n",
    "    llm = ChatOpenAI(model='gpt-3.5-turbo', temperature=1)\n",
    "    retriever = vector_store.as_retriever(search_type='similarity', search_kwargs={'k': 3})\n",
    "    chain = RetrievalQA.from_chain_type(llm=llm, chain_type=\"stuff\", retriever=retriever)\n",
    "\n",
    "    answer = chain.run(q)\n",
    "    return answer"
   ]
  },
  {
   "cell_type": "code",
   "execution_count": 116,
   "metadata": {},
   "outputs": [
    {
     "name": "stdout",
     "output_type": "stream",
     "text": [
      "The document being referred to is a Constitution, specifically outlining the Fundamental Objectives and Directive Principles of State Policy. It emphasizes principles of freedom, equality, and justice, aiming to consolidate the unity of the people in the country. It contains provisions regarding governance, duties of government organs, and authority, as well as guidelines for matters such as stamp duties and welfare of all individuals in the country.\n"
     ]
    }
   ],
   "source": [
    "# Run the function\n",
    "\n",
    "q = 'What is the whole document about?'\n",
    "answer = ask_and_get_answer(vector_store, q)\n",
    "print(answer)"
   ]
  },
  {
   "cell_type": "markdown",
   "metadata": {},
   "source": [
    "### Looping through the application "
   ]
  },
  {
   "cell_type": "code",
   "execution_count": 117,
   "metadata": {},
   "outputs": [
    {
     "name": "stdout",
     "output_type": "stream",
     "text": [
      "Write Quit or Exit to quit.\n",
      "Quitting ... bye bye!\n"
     ]
    }
   ],
   "source": [
    "import time\n",
    "i = 1\n",
    "print('Write Quit or Exit to quit.')\n",
    "while True:\n",
    "    q = input(f'Question #{i}: ')\n",
    "    i = i + 1\n",
    "    if q.lower() in ['quit', 'exit']:\n",
    "        print('Quitting ... bye bye!')\n",
    "        time.sleep(2)\n",
    "        break\n",
    "\n",
    "    answer = ask_and_get_answer(vector_store, q)\n",
    "    print(f'\\nAnswer: {answer}')\n",
    "    print(f'\\n {\"-\" * 50} \\n')"
   ]
  },
  {
   "cell_type": "code",
   "execution_count": 118,
   "metadata": {},
   "outputs": [
    {
     "name": "stdout",
     "output_type": "stream",
     "text": [
      "Deleting all indexes ... \n",
      "ok\n"
     ]
    }
   ],
   "source": [
    "delete_pinecone_index()"
   ]
  },
  {
   "cell_type": "code",
   "execution_count": 121,
   "metadata": {},
   "outputs": [
    {
     "name": "stdout",
     "output_type": "stream",
     "text": [
      "Creating index chatgpt and embeddings ...Ok\n"
     ]
    }
   ],
   "source": [
    "# Loading from Wikipedia\n",
    "data = load_from_wikipedia('ChatGPT', 'ro')\n",
    "chunks = chunk_data(data)\n",
    "index_name='chatgpt'\n",
    "vector_store = insert_or_fetch_embeddings(index_name, chunks)"
   ]
  },
  {
   "cell_type": "code",
   "execution_count": 122,
   "metadata": {},
   "outputs": [
    {
     "name": "stdout",
     "output_type": "stream",
     "text": [
      "ChatGPT este un membru al familiei de modele de limbaj generative pre-antrenate dezvoltat de OpenAI. A fost construit pe versiunea îmbunătățită a lui GPT-3, cunoscută sub numele de „GPT-3.5”, iar o versiune mai nouă, bazată pe GPT-4, a fost lansată pentru abonații plătitori pe 14 martie 2023. Murati consideră că ChatGPT poate fi o oportunitate pentru educație, dar regulile și limitele trebuie stabilite în utilizarea lui zilnică.\n"
     ]
    }
   ],
   "source": [
    "q = \"Ce este ChatGPT?\"\n",
    "answer = ask_and_get_answer(vector_store, q)\n",
    "print(answer)"
   ]
  },
  {
   "cell_type": "markdown",
   "metadata": {},
   "source": [
    "## RAG: Retrieval Augmented Generation"
   ]
  },
  {
   "cell_type": "markdown",
   "metadata": {},
   "source": [
    "### Using Chroma as a Vector DB"
   ]
  },
  {
   "cell_type": "code",
   "execution_count": 123,
   "metadata": {},
   "outputs": [
    {
     "name": "stdout",
     "output_type": "stream",
     "text": [
      "\n",
      "\u001b[1m[\u001b[0m\u001b[34;49mnotice\u001b[0m\u001b[1;39;49m]\u001b[0m\u001b[39;49m A new release of pip is available: \u001b[0m\u001b[31;49m23.2.1\u001b[0m\u001b[39;49m -> \u001b[0m\u001b[32;49m24.0\u001b[0m\n",
      "\u001b[1m[\u001b[0m\u001b[34;49mnotice\u001b[0m\u001b[1;39;49m]\u001b[0m\u001b[39;49m To update, run: \u001b[0m\u001b[32;49mpip3 install --upgrade pip\u001b[0m\n",
      "Note: you may need to restart the kernel to use updated packages.\n"
     ]
    }
   ],
   "source": [
    "pip install -q chromadb"
   ]
  },
  {
   "cell_type": "code",
   "execution_count": 133,
   "metadata": {},
   "outputs": [],
   "source": [
    "def create_embeddings_chroma(chunks, persist_directory='./chroma_db'):\n",
    "    from langchain.vectorstores import Chroma\n",
    "    from langchain_openai import OpenAIEmbeddings\n",
    "\n",
    "    embeddings = OpenAIEmbeddings(model='text-embedding-3-small', dimensions=1536)\n",
    "    vector_store = Chroma.from_documents(chunks, embeddings, persist_directory=persist_directory)\n",
    "    return vector_store\n",
    "\n",
    "def load_embeddings_chroma(persist_directory='./chroma_db'):\n",
    "    from langchain.vectorstores import Chroma\n",
    "    from langchain_openai import OpenAIEmbeddings\n",
    "\n",
    "    embeddings = OpenAIEmbeddings(model='text-embedding-3-small', dimensions=1536)\n",
    "    vector_store = Chroma(persist_directory=persist_directory, embedding_function=embeddings)\n",
    "    return vector_store"
   ]
  },
  {
   "cell_type": "code",
   "execution_count": 127,
   "metadata": {},
   "outputs": [
    {
     "name": "stdout",
     "output_type": "stream",
     "text": [
      "Loading ./ngConstitution.pdf\n"
     ]
    }
   ],
   "source": [
    "# Load the PDF File\n",
    "data = load_document('./ngConstitution.pdf')\n",
    "chunks = chunk_data(data, chunk_size=256)\n",
    "vector_store = create_embeddings_chroma(chunks)"
   ]
  },
  {
   "cell_type": "code",
   "execution_count": 128,
   "metadata": {},
   "outputs": [
    {
     "name": "stdout",
     "output_type": "stream",
     "text": [
      "A constitution is a set of fundamental principles or established precedents that a state or organization is governed by. It typically outlines the rights and duties of citizens and the structure of the government.\n"
     ]
    }
   ],
   "source": [
    "q = 'What is Constitution?'\n",
    "answer = ask_and_get_answer(vector_store, q)\n",
    "print(answer)"
   ]
  },
  {
   "cell_type": "code",
   "execution_count": 134,
   "metadata": {},
   "outputs": [
    {
     "name": "stdout",
     "output_type": "stream",
     "text": [
      "The constitution is about establishing and regulating authorities for the country or any part thereof in order to promote and enforce the observance of fundamental objectives and directive principles contained in the constitution. It also aims to consolidate the unity of the people and promote good government based on principles of freedom, equality, and justice.\n"
     ]
    }
   ],
   "source": [
    "db = load_embeddings_chroma()\n",
    "q = 'What is the costitution all about?'\n",
    "answer = ask_and_get_answer(vector_store, q)\n",
    "print(answer)"
   ]
  },
  {
   "cell_type": "markdown",
   "metadata": {},
   "source": [
    "### Adding Memory to the RAG System (CHat History)"
   ]
  },
  {
   "cell_type": "code",
   "execution_count": 144,
   "metadata": {},
   "outputs": [],
   "source": [
    "from langchain_openai import ChatOpenAI\n",
    "from langchain.chains import ConversationalRetrievalChain\n",
    "from langchain.memory import ConversationBufferMemory\n",
    "\n",
    "llm = ChatOpenAI(model_name='gpt-3.5-turbo', temperature=0)\n",
    "retriever = vector_store.as_retriever(search_type='similarity', search_kwargs={'k' : 5})\n",
    "memory = ConversationBufferMemory(memory_key='chat_history', return_messages=True)\n",
    "\n",
    "crc = ConversationalRetrievalChain.from_llm(\n",
    "    llm=llm,\n",
    "    retriever=retriever,\n",
    "    memory=memory,\n",
    "    chain_type='stuff',\n",
    "    verbose=True\n",
    ")"
   ]
  },
  {
   "cell_type": "code",
   "execution_count": 145,
   "metadata": {},
   "outputs": [],
   "source": [
    "def ask_question(q, chain):\n",
    "    result = chain.invoke({'question': q})\n",
    "    return result"
   ]
  },
  {
   "cell_type": "code",
   "execution_count": 146,
   "metadata": {},
   "outputs": [
    {
     "name": "stdout",
     "output_type": "stream",
     "text": [
      "Loading ./ngConstitution.pdf\n"
     ]
    }
   ],
   "source": [
    "data = load_document('./ngConstitution.pdf')\n",
    "chunks = chunk_data(data, chunk_size=256)\n",
    "vector_store = create_embeddings_chroma(chunks)"
   ]
  },
  {
   "cell_type": "code",
   "execution_count": 147,
   "metadata": {},
   "outputs": [
    {
     "name": "stdout",
     "output_type": "stream",
     "text": [
      "\n",
      "\n",
      "\u001b[1m> Entering new StuffDocumentsChain chain...\u001b[0m\n",
      "\n",
      "\n",
      "\u001b[1m> Entering new LLMChain chain...\u001b[0m\n",
      "Prompt after formatting:\n",
      "\u001b[32;1m\u001b[1;3mSystem: Use the following pieces of context to answer the user's question. \n",
      "If you don't know the answer, just say that you don't know, don't try to make up an answer.\n",
      "----------------\n",
      "Constitution, ensure their existence under a Law wh ich provides for the establishment, structure, \n",
      "composition, finance and functions of such councils.  \n",
      "(2) The person authorised by law to prescribe th e area over which a local government council may\n",
      "\n",
      "Constitution, ensure their existence under a Law wh ich provides for the establishment, structure, \n",
      "composition, finance and functions of such councils.  \n",
      "(2) The person authorised by law to prescribe th e area over which a local government council may\n",
      "\n",
      "Constitution, ensure their existence under a Law wh ich provides for the establishment, structure, \n",
      "composition, finance and functions of such councils.  \n",
      "(2) The person authorised by law to prescribe th e area over which a local government council may\n",
      "\n",
      "Constitution or in accordance with the provisions of a law made thereunder. \n",
      "(2) Any person who immediately before the date when this section comes into force holds office by virtue of any\n",
      "\n",
      "Constitution or in accordance with the provisions of a law made thereunder. \n",
      "(2) Any person who immediately before the date when this section comes into force holds office by virtue of any\n",
      "Human: What is constitution?\u001b[0m\n",
      "\n",
      "\u001b[1m> Finished chain.\u001b[0m\n",
      "\n",
      "\u001b[1m> Finished chain.\u001b[0m\n",
      "{'question': 'What is constitution?', 'chat_history': [HumanMessage(content='What is constitution?'), AIMessage(content='A constitution is a set of fundamental principles or established precedents according to which a state or other organization is governed. It typically outlines the structure, powers, and duties of the government, as well as the rights of the citizens.')], 'answer': 'A constitution is a set of fundamental principles or established precedents according to which a state or other organization is governed. It typically outlines the structure, powers, and duties of the government, as well as the rights of the citizens.'}\n"
     ]
    }
   ],
   "source": [
    "q = 'What is constitution?'\n",
    "result = ask_question(q, crc)\n",
    "print(result)"
   ]
  },
  {
   "cell_type": "code",
   "execution_count": 148,
   "metadata": {},
   "outputs": [
    {
     "name": "stdout",
     "output_type": "stream",
     "text": [
      "A constitution is a set of fundamental principles or established precedents according to which a state or other organization is governed. It typically outlines the structure, powers, and duties of the government, as well as the rights of the citizens.\n"
     ]
    }
   ],
   "source": [
    "print(result['answer'])"
   ]
  },
  {
   "cell_type": "code",
   "execution_count": 149,
   "metadata": {},
   "outputs": [
    {
     "name": "stdout",
     "output_type": "stream",
     "text": [
      "\n",
      "\n",
      "\u001b[1m> Entering new LLMChain chain...\u001b[0m\n",
      "Prompt after formatting:\n",
      "\u001b[32;1m\u001b[1;3mGiven the following conversation and a follow up question, rephrase the follow up question to be a standalone question, in its original language.\n",
      "\n",
      "Chat History:\n",
      "\n",
      "Human: What is constitution?\n",
      "Assistant: A constitution is a set of fundamental principles or established precedents according to which a state or other organization is governed. It typically outlines the structure, powers, and duties of the government, as well as the rights of the citizens.\n",
      "Follow Up Input: how does the constitution related to US constitution\n",
      "Standalone question:\u001b[0m\n",
      "\n",
      "\u001b[1m> Finished chain.\u001b[0m\n",
      "\n",
      "\n",
      "\u001b[1m> Entering new StuffDocumentsChain chain...\u001b[0m\n",
      "\n",
      "\n",
      "\u001b[1m> Entering new LLMChain chain...\u001b[0m\n",
      "Prompt after formatting:\n",
      "\u001b[32;1m\u001b[1;3mSystem: Use the following pieces of context to answer the user's question. \n",
      "If you don't know the answer, just say that you don't know, don't try to make up an answer.\n",
      "----------------\n",
      "Constitution; and (c) references to persons, offices and authorities of a St ate were references to the persons, offices and authorities\n",
      "\n",
      "Constitution; and (c) references to persons, offices and authorities of a St ate were references to the persons, offices and authorities\n",
      "\n",
      "Constitution; and (c) references to persons, offices and authorities of a St ate were references to the persons, offices and authorities\n",
      "\n",
      "(3) If any other law is inconsistent with the provisions of this Constitution, this Constitution shall prevail, \n",
      "and that other law shall, to the extent of the inconsistency, be void.\n",
      "\n",
      "(3) If any other law is inconsistent with the provisions of this Constitution, this Constitution shall prevail, \n",
      "and that other law shall, to the extent of the inconsistency, be void.\n",
      "Human: How does the US Constitution relate to the constitution in general?\u001b[0m\n",
      "\n",
      "\u001b[1m> Finished chain.\u001b[0m\n",
      "\n",
      "\u001b[1m> Finished chain.\u001b[0m\n"
     ]
    }
   ],
   "source": [
    "q = 'how does the constitution related to US constitution'\n",
    "result = ask_question(q, crc)"
   ]
  },
  {
   "cell_type": "code",
   "execution_count": 150,
   "metadata": {},
   "outputs": [
    {
     "name": "stdout",
     "output_type": "stream",
     "text": [
      "The US Constitution is a specific constitution that governs the United States of America. It is a written document that outlines the structure of the government, the rights of the citizens, and the powers of the different branches of government. In general, a constitution is a set of fundamental principles or established precedents according to which a state or other organization is governed. The US Constitution is an example of a constitution that serves as the supreme law of the land in the United States.\n"
     ]
    }
   ],
   "source": [
    "print(result['answer'])"
   ]
  },
  {
   "cell_type": "code",
   "execution_count": 151,
   "metadata": {},
   "outputs": [
    {
     "name": "stdout",
     "output_type": "stream",
     "text": [
      "content='What is constitution?'\n",
      "content='A constitution is a set of fundamental principles or established precedents according to which a state or other organization is governed. It typically outlines the structure, powers, and duties of the government, as well as the rights of the citizens.'\n",
      "content='how does the constitution related to US constitution'\n",
      "content='The US Constitution is a specific constitution that governs the United States of America. It is a written document that outlines the structure of the government, the rights of the citizens, and the powers of the different branches of government. In general, a constitution is a set of fundamental principles or established precedents according to which a state or other organization is governed. The US Constitution is an example of a constitution that serves as the supreme law of the land in the United States.'\n"
     ]
    }
   ],
   "source": [
    "# Print the history\n",
    "for item in result['chat_history']:\n",
    "    print(item)"
   ]
  },
  {
   "cell_type": "markdown",
   "metadata": {},
   "source": [
    "## Using a Custom Prompt"
   ]
  },
  {
   "cell_type": "code",
   "execution_count": 159,
   "metadata": {},
   "outputs": [],
   "source": [
    "from langchain_openai import ChatOpenAI\n",
    "from langchain.chains import ConversationalRetrievalChain\n",
    "from langchain.memory import ConversationBufferMemory\n",
    "\n",
    "from langchain.prompts import ChatPromptTemplate, SystemMessagePromptTemplate, HumanMessagePromptTemplate\n",
    "\n",
    "llm = ChatOpenAI(model_name='gpt-3.5-turbo', temperature=0)\n",
    "retriever = vector_store.as_retriever(search_type='similarity', search_kwargs={'k' : 5})\n",
    "memory = ConversationBufferMemory(memory_key='chat_history', return_messages=True)\n",
    "\n",
    "# You can use any language\n",
    "system_template = r'''\n",
    "Use the following pieces of context to answer the user's question.\n",
    "If you don't find the answer in the provided context, just respond \"I don't know.\"\n",
    "--------------------\n",
    "Context: ```{context}```\n",
    "'''\n",
    "\n",
    "user_template = '''\n",
    "Question: ```{question}```\n",
    "Chat History: ```{chat_history}```\n",
    "'''\n",
    "\n",
    "messages= [\n",
    "    SystemMessagePromptTemplate.from_template(system_template),\n",
    "    HumanMessagePromptTemplate.from_template(user_template)\n",
    "]\n",
    "\n",
    "qa_prompt = ChatPromptTemplate.from_messages(messages)\n",
    "\n",
    "crc = ConversationalRetrievalChain.from_llm(\n",
    "    llm=llm,\n",
    "    retriever=retriever,\n",
    "    memory=memory,\n",
    "    chain_type='stuff',\n",
    "    combine_docs_chain_kwargs={'prompt': qa_prompt},\n",
    "    verbose=True\n",
    ")"
   ]
  },
  {
   "cell_type": "code",
   "execution_count": 156,
   "metadata": {},
   "outputs": [
    {
     "name": "stdout",
     "output_type": "stream",
     "text": [
      "input_variables=['chat_history', 'context', 'question'] messages=[SystemMessagePromptTemplate(prompt=PromptTemplate(input_variables=['context'], template=\"\\nUse the following pieces of context to answer the user's question.\\n--------------------\\nContext: ```{context}```\\n\")), HumanMessagePromptTemplate(prompt=PromptTemplate(input_variables=['chat_history', 'question'], template='\\nQuestion: ```{question}```\\nChat History: ```{chat_history}```\\n'))]\n"
     ]
    }
   ],
   "source": [
    "print(qa_prompt)"
   ]
  },
  {
   "cell_type": "code",
   "execution_count": 157,
   "metadata": {},
   "outputs": [
    {
     "name": "stdout",
     "output_type": "stream",
     "text": [
      "\n",
      "\n",
      "\u001b[1m> Entering new StuffDocumentsChain chain...\u001b[0m\n",
      "\n",
      "\n",
      "\u001b[1m> Entering new LLMChain chain...\u001b[0m\n",
      "Prompt after formatting:\n",
      "\u001b[32;1m\u001b[1;3mSystem: \n",
      "Use the following pieces of context to answer the user's question.\n",
      "--------------------\n",
      "Context: ```Constitution; and (c) references to persons, offices and authorities of a St ate were references to the persons, offices and authorities\n",
      "\n",
      "Constitution; and (c) references to persons, offices and authorities of a St ate were references to the persons, offices and authorities\n",
      "\n",
      "Constitution; and (c) references to persons, offices and authorities of a St ate were references to the persons, offices and authorities\n",
      "\n",
      "(3) If any other law is inconsistent with the provisions of this Constitution, this Constitution shall prevail, \n",
      "and that other law shall, to the extent of the inconsistency, be void.\n",
      "\n",
      "(3) If any other law is inconsistent with the provisions of this Constitution, this Constitution shall prevail, \n",
      "and that other law shall, to the extent of the inconsistency, be void.```\n",
      "\n",
      "Human: \n",
      "Question: ```how does the constitution related to US constitution```\n",
      "Chat History: ``````\n",
      "\u001b[0m\n",
      "\n",
      "\u001b[1m> Finished chain.\u001b[0m\n",
      "\n",
      "\u001b[1m> Finished chain.\u001b[0m\n",
      "{'question': 'how does the constitution related to US constitution', 'chat_history': [HumanMessage(content='how does the constitution related to US constitution'), AIMessage(content='Based on the provided context, it seems like the text is referencing a Constitution that may not necessarily be related to the US Constitution. The text mentions provisions of a Constitution prevailing over other laws in case of inconsistency. To determine how this Constitution relates to the US Constitution, more specific information or context would be needed.')], 'answer': 'Based on the provided context, it seems like the text is referencing a Constitution that may not necessarily be related to the US Constitution. The text mentions provisions of a Constitution prevailing over other laws in case of inconsistency. To determine how this Constitution relates to the US Constitution, more specific information or context would be needed.'}\n"
     ]
    }
   ],
   "source": [
    "db = load_embeddings_chroma()\n",
    "q = 'how does the constitution related to US constitution'\n",
    "result = ask_question(q, crc)\n",
    "print(result)"
   ]
  },
  {
   "cell_type": "code",
   "execution_count": 160,
   "metadata": {},
   "outputs": [
    {
     "name": "stdout",
     "output_type": "stream",
     "text": [
      "\n",
      "\n",
      "\u001b[1m> Entering new StuffDocumentsChain chain...\u001b[0m\n",
      "\n",
      "\n",
      "\u001b[1m> Entering new LLMChain chain...\u001b[0m\n",
      "Prompt after formatting:\n",
      "\u001b[32;1m\u001b[1;3mSystem: \n",
      "Use the following pieces of context to answer the user's question.\n",
      "If you don't find the answer in the provided context, just respond \"I don't know.\"\n",
      "--------------------\n",
      "Context: ```citizen of Nigeria if at the time of the birth of that person such parent or grandparent would have possessed that status by birth if he had been alive on the date of independence; and in this section, \"the\n",
      "\n",
      "citizen of Nigeria if at the time of the birth of that person such parent or grandparent would have possessed that status by birth if he had been alive on the date of independence; and in this section, \"the\n",
      "\n",
      "citizen of Nigeria if at the time of the birth of that person such parent or grandparent would have possessed that status by birth if he had been alive on the date of independence; and in this section, \"the\n",
      "\n",
      "Provided that a person shall not become a citizen \n",
      "of Nigeria by virtue of this section if neither of \n",
      "his parents nor any of his grandparents was born \n",
      "in Nigeria.  \n",
      "(b) every person born in Nigeria after the date of\n",
      "\n",
      "Provided that a person shall not become a citizen \n",
      "of Nigeria by virtue of this section if neither of \n",
      "his parents nor any of his grandparents was born \n",
      "in Nigeria.  \n",
      "(b) every person born in Nigeria after the date of```\n",
      "\n",
      "Human: \n",
      "Question: ```When was Elon Musk born?```\n",
      "Chat History: ``````\n",
      "\u001b[0m\n",
      "\n",
      "\u001b[1m> Finished chain.\u001b[0m\n",
      "\n",
      "\u001b[1m> Finished chain.\u001b[0m\n",
      "{'question': 'When was Elon Musk born?', 'chat_history': [HumanMessage(content='When was Elon Musk born?'), AIMessage(content=\"I don't know.\")], 'answer': \"I don't know.\"}\n"
     ]
    }
   ],
   "source": [
    "q = 'When was Elon Musk born?'\n",
    "result = ask_question(q, crc)\n",
    "print(result)"
   ]
  },
  {
   "cell_type": "code",
   "execution_count": 161,
   "metadata": {},
   "outputs": [
    {
     "name": "stdout",
     "output_type": "stream",
     "text": [
      "I don't know.\n"
     ]
    }
   ],
   "source": [
    "print(result['answer'])"
   ]
  }
 ],
 "metadata": {
  "kernelspec": {
   "display_name": "Python 3",
   "language": "python",
   "name": "python3"
  },
  "language_info": {
   "codemirror_mode": {
    "name": "ipython",
    "version": 3
   },
   "file_extension": ".py",
   "mimetype": "text/x-python",
   "name": "python",
   "nbconvert_exporter": "python",
   "pygments_lexer": "ipython3",
   "version": "3.11.5"
  }
 },
 "nbformat": 4,
 "nbformat_minor": 2
}
