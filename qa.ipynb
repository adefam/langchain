{
 "cells": [
  {
   "cell_type": "markdown",
   "metadata": {},
   "source": [
    "## Project: Question-Answering on Private documents"
   ]
  },
  {
   "cell_type": "code",
   "execution_count": 1,
   "metadata": {},
   "outputs": [
    {
     "data": {
      "text/plain": [
       "True"
      ]
     },
     "execution_count": 1,
     "metadata": {},
     "output_type": "execute_result"
    }
   ],
   "source": [
    "import os\n",
    "from dotenv import load_dotenv, find_dotenv\n",
    "load_dotenv(find_dotenv(), override=True)\n"
   ]
  },
  {
   "cell_type": "markdown",
   "metadata": {},
   "source": [
    "## Load PDF File "
   ]
  },
  {
   "cell_type": "code",
   "execution_count": 2,
   "metadata": {},
   "outputs": [
    {
     "name": "stdout",
     "output_type": "stream",
     "text": [
      "\n",
      "\u001b[1m[\u001b[0m\u001b[34;49mnotice\u001b[0m\u001b[1;39;49m]\u001b[0m\u001b[39;49m A new release of pip is available: \u001b[0m\u001b[31;49m23.2.1\u001b[0m\u001b[39;49m -> \u001b[0m\u001b[32;49m24.0\u001b[0m\n",
      "\u001b[1m[\u001b[0m\u001b[34;49mnotice\u001b[0m\u001b[1;39;49m]\u001b[0m\u001b[39;49m To update, run: \u001b[0m\u001b[32;49mpip3 install --upgrade pip\u001b[0m\n",
      "Note: you may need to restart the kernel to use updated packages.\n"
     ]
    }
   ],
   "source": [
    "pip install pypdf -q"
   ]
  },
  {
   "cell_type": "code",
   "execution_count": 3,
   "metadata": {},
   "outputs": [],
   "source": [
    "def load_document(file):\n",
    "    from langchain.document_loaders import PyPDFLoader\n",
    "    print(f'Loading {file}')\n",
    "    loader = PyPDFLoader(file)\n",
    "    data = loader.load()\n",
    "    return data"
   ]
  },
  {
   "cell_type": "markdown",
   "metadata": {},
   "source": [
    "### Start Running the Code"
   ]
  },
  {
   "cell_type": "code",
   "execution_count": 4,
   "metadata": {},
   "outputs": [
    {
     "name": "stdout",
     "output_type": "stream",
     "text": [
      "Loading ngConstitution.pdf\n",
      "(5) The provisions of this Constitution in Part I of Chapter VIII hereof shall in relation to the Federal \n",
      "Capital Territory, Abuja, have effect in the manner set out thereunder. \n",
      "(6) There shall be 768 Local Government Areas in Nigeri a as shown in the second column of Part I of the \n",
      "First Schedule to this Constitution and six area councils as shown in Part II of that Schedule. \n",
      "  \n",
      "  \n",
      "  \n",
      "  \n",
      "Part II  \n",
      "  \n",
      "Powers of the Federal Republic of Nigeria \n",
      "  \n",
      "  \n",
      "4. (1) The legislative powers of the Federal Republic of Nigeria shall be vested in a National Assembly for \n",
      "the Federation, which shall consist of a Senate and a House of Representatives. \n",
      " \n",
      "(2) The National Assembly shall have power to make laws for the peace, order and good government of \n",
      "the Federation or any part thereof with respect to an y matter included in the Exclusive Legislative List set \n",
      "out in Part I of the Second Schedule to this Constitution.  \n",
      "(3) The power of the National Assembly to make laws for the peace, order and good government of the \n",
      "Federation with respect to any matter included in the Exclusive Legislative List shall, save as otherwise \n",
      "provided in this Constitution, be to the exclusion of the Houses of Assembly of States.  \n",
      "(4) In addition and without prejudice to the powers conferred by subsection (2 ) of this section, the \n",
      "National Assembly shall have power to make laws with respect to the following matters, that is to say:-  \n",
      "(a) any matter in the Concurrent Legislative List set out in the first column of \n",
      "Part II of the Second Schedule to this Constitution to the extent prescribed in \n",
      "the second column opposite thereto; and  \n",
      "(b) any other matter with respect to which it is empowered to make laws in \n",
      "accordance with the provisions  of this Constitution. \n",
      "(5) If any Law enacted by the House of Assembly of a State is inconsistent with any law validly made by \n",
      "the National Assembly, the law made by the National Asse mbly shall prevail, and that other Law shall, to \n",
      "the extent of the inconsistency, be void.  \n",
      "(6) The legislative powers of a State of the Federation shall be vested in the House of Assembly of the \n",
      "State.  (7) The House of Assembly of a State shall have pow er to make laws for the peace, order and good \n",
      "government of the State or any part thereof with respect to the following matters, that is to say:-  \n",
      "(a) any matter not included in the Exclusive Legislative List set out in Part I of \n",
      "the Second Schedule to this Constitution.  (b) any matter included in the Concurrent Legislative List set out in the first \n",
      "column of Part II of the Second Schedule to this Constitution to the extent \n",
      "prescribed in the second column opposite thereto; and  \n",
      "(c) any other matter with respect to which it is empowered to make laws in \n",
      "accordance with the provisions  of this Constitution. \n",
      "(8) Save as otherwise provided by this Constitution, the exercise of legislative powers by the National \n",
      "Assembly or by a House of Assembly shall be subject to  the jurisdiction of courts of law and of judicial \n",
      "tribunals established by law, and accordingly, the National Assembly or  a House of Assembly shall not \n",
      "enact any law, that ousts or purports to oust the juri sdiction of a court of law or of a judicial tribunal \n",
      "established by law.  (9) Notwithstanding the foregoing provisions of this  section, the National Assembly or a House of \n",
      "Assembly shall not, in relation to any criminal of fence whatsoever, have power to make any law which \n",
      "shall have retrospective effect. \n"
     ]
    }
   ],
   "source": [
    "data = load_document('ngConstitution.pdf')\n",
    "print(data[1].page_content)"
   ]
  },
  {
   "cell_type": "code",
   "execution_count": 5,
   "metadata": {},
   "outputs": [
    {
     "name": "stdout",
     "output_type": "stream",
     "text": [
      "Loading ngConstitution.pdf\n",
      "{'source': 'ngConstitution.pdf', 'page': 10}\n"
     ]
    }
   ],
   "source": [
    "data = load_document('ngConstitution.pdf')\n",
    "print(data[10].metadata)"
   ]
  },
  {
   "cell_type": "code",
   "execution_count": 7,
   "metadata": {},
   "outputs": [
    {
     "name": "stdout",
     "output_type": "stream",
     "text": [
      "Loading ngConstitution.pdf\n",
      "You have 118 pages in your data\n",
      "There are 3314 characters in the page\n"
     ]
    }
   ],
   "source": [
    "# Checking how many pages in my data\n",
    "data = load_document('ngConstitution.pdf')\n",
    "print(f'You have {len(data)} pages in your data')\n",
    "\n",
    "# Checking the number of character in a data\n",
    "print(f'There are {len(data[20].page_content)} characters in the page')"
   ]
  },
  {
   "cell_type": "markdown",
   "metadata": {},
   "source": [
    "### Document Format\n",
    "Uploading different document format of file"
   ]
  },
  {
   "cell_type": "code",
   "execution_count": 8,
   "metadata": {},
   "outputs": [
    {
     "name": "stdout",
     "output_type": "stream",
     "text": [
      "\n",
      "\u001b[1m[\u001b[0m\u001b[34;49mnotice\u001b[0m\u001b[1;39;49m]\u001b[0m\u001b[39;49m A new release of pip is available: \u001b[0m\u001b[31;49m23.2.1\u001b[0m\u001b[39;49m -> \u001b[0m\u001b[32;49m24.0\u001b[0m\n",
      "\u001b[1m[\u001b[0m\u001b[34;49mnotice\u001b[0m\u001b[1;39;49m]\u001b[0m\u001b[39;49m To update, run: \u001b[0m\u001b[32;49mpip3 install --upgrade pip\u001b[0m\n",
      "Note: you may need to restart the kernel to use updated packages.\n"
     ]
    }
   ],
   "source": [
    "pip install docx2txt -q"
   ]
  },
  {
   "cell_type": "code",
   "execution_count": 9,
   "metadata": {},
   "outputs": [],
   "source": [
    "def load_document(file):\n",
    "    import os\n",
    "    name, extension = os.path.splitext(file)\n",
    "\n",
    "    if extension == '.pdf':\n",
    "        from langchain.document_loaders import PyPDFLoader\n",
    "        print(f'Loading {file}')\n",
    "        loader = PyPDFLoader(file)\n",
    "    elif extension == '.docx':\n",
    "        from langchain.document_loaders import Docx2txtLoader\n",
    "        print(f'Loading {file}')\n",
    "        loader = Docx2txtLoader(file)\n",
    "    # Add all other format you wanted\n",
    "    else:\n",
    "        print('Document format is not supported')\n",
    "        return None\n",
    "    data = loader.load()\n",
    "    return data"
   ]
  },
  {
   "cell_type": "markdown",
   "metadata": {},
   "source": [
    "### Running Data"
   ]
  },
  {
   "cell_type": "code",
   "execution_count": 11,
   "metadata": {},
   "outputs": [
    {
     "name": "stdout",
     "output_type": "stream",
     "text": [
      "Loading podcast.docx\n",
      "INDIVIDUAL PODCAST\n",
      "\n",
      "\n",
      "\n",
      "\n",
      "\n",
      "Hello,\n",
      "\n",
      "Welcome to my podcast, I will be talking about HIV/AIDS which is my health campaign topic. The purpose is to help control HIV/AIDS in Nigeria and help everyone know their status.\n",
      "\n",
      "Symptoms of HIV/AIDS include night sweats, fatigue, weight loss, vomiting, skin rashes, etc. The transmission of this disease is through having unsafe sex and sharing equipment such as needles, blades, etc. Antiretroviral drugs help HIV/AIDS reduce the risks of transmission.\n",
      "\n",
      "\n",
      "\n",
      "\n",
      "\n",
      "I would like to include a story about an HIV patient, about a young lady called Joy who was diagnosed with HIV.This led to her family members mocking and leaving her and thus made the young lady destabilized. After some few months, she went for counseling and was given HIV drugs which are the antiretroviral drugs i mentioned previously. These brought about lots of changes in her and she opened her own organization to help people living with HIV/AIDS to gain their confidence and move on with their life.\n",
      "\n",
      "My target audience are teenagers and adults. So I would like to say that having safe sex, i.e. use of condom will help control the spread of HIV/AIDS. Regular checkups every three months to know one’s status, limiting the number of sexual partners will help to reduce the rate at which HIV is being spread. Choose a sexual partner wisely, abstaining from sex will help too. Let's help fight aids by spreading the information across the globe.\n"
     ]
    }
   ],
   "source": [
    "data = load_document('podcast.docx')\n",
    "print(data[0].page_content)"
   ]
  },
  {
   "cell_type": "markdown",
   "metadata": {},
   "source": [
    "## Public and Private Service Loaders"
   ]
  },
  {
   "cell_type": "markdown",
   "metadata": {},
   "source": [
    "Load from Wikipedia"
   ]
  },
  {
   "cell_type": "code",
   "execution_count": 12,
   "metadata": {},
   "outputs": [
    {
     "name": "stdout",
     "output_type": "stream",
     "text": [
      "\n",
      "\u001b[1m[\u001b[0m\u001b[34;49mnotice\u001b[0m\u001b[1;39;49m]\u001b[0m\u001b[39;49m A new release of pip is available: \u001b[0m\u001b[31;49m23.2.1\u001b[0m\u001b[39;49m -> \u001b[0m\u001b[32;49m24.0\u001b[0m\n",
      "\u001b[1m[\u001b[0m\u001b[34;49mnotice\u001b[0m\u001b[1;39;49m]\u001b[0m\u001b[39;49m To update, run: \u001b[0m\u001b[32;49mpip3 install --upgrade pip\u001b[0m\n",
      "Note: you may need to restart the kernel to use updated packages.\n"
     ]
    }
   ],
   "source": [
    "pip install wikipedia -q"
   ]
  },
  {
   "cell_type": "code",
   "execution_count": 13,
   "metadata": {},
   "outputs": [],
   "source": [
    "# Wikipedia\n",
    "def load_from_wikipedia(query, lang='en', load_max_docs=2):\n",
    "    from langchain.document_loaders import WikipediaLoader\n",
    "    loader = WikipediaLoader(query=query, lang=lang, load_max_docs=load_max_docs)\n",
    "    data = loader.load()\n",
    "    return data  "
   ]
  },
  {
   "cell_type": "code",
   "execution_count": 15,
   "metadata": {},
   "outputs": [
    {
     "name": "stdout",
     "output_type": "stream",
     "text": [
      "Chief Olusegun Matthew Okikiola Ogunboye Aremu Obasanjo  (  oh-BAH-sən-joh; Yoruba: Olúṣẹ́gun Ọbásanjọ́ [olúʃɛ́ɡũ ɔbásanɟɔ] ; born 5 March 1937) is a Nigerian retired military General and statesman who served as Nigeria's head of state from 1976 to 1979 and later as its president from 1999 to 2007. Ideologically a Nigerian nationalist, he was a member of the Peoples Democratic Party (PDP) from 1998 to 2015, and since 2018.\n",
      "Born in the village of Ibogun-Olaogun to a farming family of the Owu branch of the Yoruba, Obasanjo was educated largely in Abeokuta, Ogun State. He joined the Nigerian Army and specialised in engineering and was assigned to the Congo, Britain, and India, rising to the rank of major. In the late 1960s, he played a senior role in combating Biafran separatists during the Nigerian Civil War, accepting their surrender in 1970. In 1975, a military coup established a junta with Obasanjo as part of its ruling triumvirate. After the triumvirate's leader, Murtala Muhammed, was assassinated the following year, the Supreme Military Council appointed Obasanjo as head of state. Continuing Murtala's policies, Obasanjo oversaw budgetary cut-backs and an expansion of access to free school education. Increasingly aligning Nigeria with the United States, he also emphasised support for groups opposing white minority rule in southern Africa. Committed to restoring democracy, Obasanjo oversaw the 1979 election, after which he transferred control of Nigeria to the newly elected civilian president, Shehu Shagari. Obasanjo then retired to Ota, Ogun, where he became a farmer, published four books, and took part in international initiatives to end various African conflicts.\n",
      "In 1993, Sani Abacha seized power in a military coup. Obasanjo was openly critical of Abacha's administration and in 1995 was arrested and convicted of being part of a planned coup, despite protesting his innocence. While imprisoned, he became a born again Christian, with providentialism strongly influencing his subsequent worldview. He was released following Abacha's death in 1998. Obasanjo entered electoral politics, becoming the PDP candidate for the 1999 presidential election which he won comfortably. As president, he de-politicised the military and both expanded the police and mobilised the army to combat widespread ethnic, religious, and secessionist violence. He withdrew Nigeria's military from Sierra Leone and privatised various public enterprises to limit the country's spiralling debt. He was re-elected in the 2003 election. Influenced by Pan-Africanist ideas, he was a keen supporter of the formation of the African Union and served as its chair from 2004 to 2006. Obasanjo's attempts to change the constitution to abolish presidential term limits were unsuccessful and brought criticism. After retiring, he earned a PhD in theology from the National Open University of Nigeria.\n",
      "Obasanjo has been described as one of the great figures of the second generation of post-colonial African leaders. He received praise both for overseeing Nigeria's transition to representative democracy in the 1970s and for his Pan-African efforts to encourage cooperation across the continent. Critics maintain that he was guilty of corruption, that his administrations oversaw human rights abuses, and that as president he became too interested in consolidating and maintaining his personal power.\n",
      "\n",
      "\n",
      "== Early life (1937–1958) ==\n",
      "Olusegun Matthew Okikiola Aremu Obasanjo (or\n",
      "Matthew Olusegun Aremu Obasanjo) was born in Ibogun-Olaogun, a village in southwest Nigeria. His later passport gave his date of birth as 5 March 1937, although this was a later estimate, with no contemporary records surviving. His father was Amos Adigun Obaluayesanjo \"Obasanjo\" Bankole and his mother was Bernice Ashabi Bankole. The first of nine children, only he and a sister (Adunni Oluwole Obasanjo) survived childhood. He was born to the Owu branch of the Yoruba people. The village church was part of a mission set up b\n"
     ]
    }
   ],
   "source": [
    "data = load_from_wikipedia('Olusegun Obasanjo')\n",
    "print(data[0].page_content)"
   ]
  },
  {
   "cell_type": "markdown",
   "metadata": {},
   "source": [
    "### Chunking Strategies and Splithing the Document"
   ]
  },
  {
   "cell_type": "code",
   "execution_count": 23,
   "metadata": {},
   "outputs": [],
   "source": [
    "def chunk_data(data, chunk_size=256):\n",
    "    from langchain.text_splitter import RecursiveCharacterTextSplitter\n",
    "    text_splitter = RecursiveCharacterTextSplitter(chunk_size = chunk_size, chunk_overlap=0)\n",
    "    chunks = text_splitter.split_documents(data)\n",
    "    return chunks"
   ]
  },
  {
   "cell_type": "code",
   "execution_count": 24,
   "metadata": {},
   "outputs": [
    {
     "name": "stdout",
     "output_type": "stream",
     "text": [
      "Loading ngConstitution.pdf\n",
      "You have 118 pages in your data\n",
      "There are 3314 characters in the page\n"
     ]
    }
   ],
   "source": [
    "# Checking how many pages in my data\n",
    "data = load_document('ngConstitution.pdf')\n",
    "print(f'You have {len(data)} pages in your data')\n",
    "\n",
    "# Checking the number of character in a data\n",
    "print(f'There are {len(data[20].page_content)} characters in the page')"
   ]
  },
  {
   "cell_type": "code",
   "execution_count": 29,
   "metadata": {},
   "outputs": [
    {
     "name": "stdout",
     "output_type": "stream",
     "text": [
      "1892\n"
     ]
    }
   ],
   "source": [
    "chunks = chunk_data(data)\n",
    "print(len(chunks))"
   ]
  },
  {
   "cell_type": "code",
   "execution_count": 30,
   "metadata": {},
   "outputs": [
    {
     "name": "stdout",
     "output_type": "stream",
     "text": [
      "(5) The provisions of this Constitution in Part I of Chapter VIII hereof shall in relation to the Federal \n",
      "Capital Territory, Abuja, have effect in the manner set out thereunder.\n"
     ]
    }
   ],
   "source": [
    "# Print one of the chunks\n",
    "print(chunks[11].page_content)"
   ]
  },
  {
   "cell_type": "code",
   "execution_count": 40,
   "metadata": {},
   "outputs": [],
   "source": [
    "def print_embedding_cost(texts):\n",
    "    import tiktoken\n",
    "    enc = tiktoken.encoding_for_model('text-embedding-ada-002')\n",
    "    total_tokens = sum([len(enc.encode(page.page_content)) for page in texts])\n",
    "    print(f'Total Tokens: {total_tokens}')\n",
    "    print(f'Embodding Cost in USD: {total_tokens / 1000 * 0.0004:.6f}')"
   ]
  },
  {
   "cell_type": "code",
   "execution_count": 34,
   "metadata": {},
   "outputs": [
    {
     "name": "stdout",
     "output_type": "stream",
     "text": [
      "Total Tokens: 82159\n",
      "Embodding Cost in USD: 0.032864\n"
     ]
    }
   ],
   "source": [
    "print_embedding_cost(chunks)"
   ]
  },
  {
   "cell_type": "markdown",
   "metadata": {},
   "source": [
    "### Embedding and Uploading to a Vector Database (Pinecone)"
   ]
  },
  {
   "cell_type": "code",
   "execution_count": 43,
   "metadata": {},
   "outputs": [
    {
     "data": {
      "text/plain": [
       "True"
      ]
     },
     "execution_count": 43,
     "metadata": {},
     "output_type": "execute_result"
    }
   ],
   "source": [
    "# Embed Pinecone Api key from env file\n",
    "import os\n",
    "from dotenv import load_dotenv, find_dotenv\n",
    "load_dotenv(find_dotenv(), override=True)"
   ]
  },
  {
   "cell_type": "code",
   "execution_count": 60,
   "metadata": {},
   "outputs": [
    {
     "name": "stdout",
     "output_type": "stream",
     "text": [
      "\n",
      "\u001b[1m[\u001b[0m\u001b[34;49mnotice\u001b[0m\u001b[1;39;49m]\u001b[0m\u001b[39;49m A new release of pip is available: \u001b[0m\u001b[31;49m23.2.1\u001b[0m\u001b[39;49m -> \u001b[0m\u001b[32;49m24.0\u001b[0m\n",
      "\u001b[1m[\u001b[0m\u001b[34;49mnotice\u001b[0m\u001b[1;39;49m]\u001b[0m\u001b[39;49m To update, run: \u001b[0m\u001b[32;49mpip3 install --upgrade pip\u001b[0m\n",
      "Note: you may need to restart the kernel to use updated packages.\n"
     ]
    }
   ],
   "source": [
    "pip install -q pinecone-client"
   ]
  },
  {
   "cell_type": "code",
   "execution_count": 61,
   "metadata": {},
   "outputs": [
    {
     "name": "stdout",
     "output_type": "stream",
     "text": [
      "\n",
      "\u001b[1m[\u001b[0m\u001b[34;49mnotice\u001b[0m\u001b[1;39;49m]\u001b[0m\u001b[39;49m A new release of pip is available: \u001b[0m\u001b[31;49m23.2.1\u001b[0m\u001b[39;49m -> \u001b[0m\u001b[32;49m24.0\u001b[0m\n",
      "\u001b[1m[\u001b[0m\u001b[34;49mnotice\u001b[0m\u001b[1;39;49m]\u001b[0m\u001b[39;49m To update, run: \u001b[0m\u001b[32;49mpip3 install --upgrade pip\u001b[0m\n",
      "Note: you may need to restart the kernel to use updated packages.\n"
     ]
    }
   ],
   "source": [
    "pip install --upgrade -q pinecone-client"
   ]
  },
  {
   "cell_type": "code",
   "execution_count": 77,
   "metadata": {},
   "outputs": [],
   "source": [
    "def insert_or_fetch_embeddings(index_name, chunks):\n",
    "    import pinecone\n",
    "    from langchain_community.vectorstores import Pinecone\n",
    "    from langchain_openai import OpenAIEmbeddings\n",
    "    from pinecone import PodSpec\n",
    "\n",
    "    pc = pinecone.Pinecone()\n",
    "\n",
    "    embeddings = OpenAIEmbeddings(model='text-embedding-3-small', dimensions=1536)\n",
    "\n",
    "    if index_name in pc.list_indexes().names():\n",
    "        print(f'Index {index_name} already exists. Loading embeddings ...', end='')\n",
    "        vector_store = Pinecone.from_existing_index(index_name, embeddings)\n",
    "        print('ok')\n",
    "    else:\n",
    "        print(f'Creating index {index_name} and embeddings ...', end='')\n",
    "        pc.create_index(\n",
    "            name=index_name,\n",
    "            dimension=1536,\n",
    "            metric='cosine',\n",
    "            spec=PodSpec(environment='gcp-starter')\n",
    "        )\n",
    "        vector_store = Pinecone.from_documents(chunks, embeddings, index_name=index_name)\n",
    "        print('Ok')\n",
    "        return vector_store"
   ]
  },
  {
   "cell_type": "code",
   "execution_count": 54,
   "metadata": {},
   "outputs": [],
   "source": [
    "def delete_pinecone_index(index_name='all'):\n",
    "    import pinecone\n",
    "    pc = pinecone.Pinecone()\n",
    "    if index_name == 'all':\n",
    "        indexes = pc.list_indexes().names()\n",
    "        print('Deleting all indexes ... ')\n",
    "        for index in indexes:\n",
    "            pc.delete_index(index)\n",
    "        print('ok')\n",
    "    else:\n",
    "        print(f'Deleting index {index_name} ...', end='')\n",
    "        pc.delete_index(index_name)\n",
    "        print('ok')"
   ]
  },
  {
   "cell_type": "code",
   "execution_count": 47,
   "metadata": {},
   "outputs": [
    {
     "name": "stdout",
     "output_type": "stream",
     "text": [
      "Deleting all indexes ... \n",
      "ok\n"
     ]
    }
   ],
   "source": [
    "# Delete All Indexes in PineCone 'app.pinecone.io'\n",
    "delete_pinecone_index()\n"
   ]
  },
  {
   "cell_type": "code",
   "execution_count": 78,
   "metadata": {},
   "outputs": [
    {
     "name": "stdout",
     "output_type": "stream",
     "text": [
      "1892\n"
     ]
    }
   ],
   "source": [
    "chunks = chunk_data(data)\n",
    "print(len(chunks))"
   ]
  },
  {
   "cell_type": "code",
   "execution_count": 79,
   "metadata": {},
   "outputs": [
    {
     "name": "stdout",
     "output_type": "stream",
     "text": [
      "Creating index askadocument and embeddings ...Ok\n"
     ]
    }
   ],
   "source": [
    "index_name  =  'askadocument'\n",
    "vector_store = insert_or_fetch_embeddings(index_name, chunks)"
   ]
  }
 ],
 "metadata": {
  "kernelspec": {
   "display_name": "Python 3",
   "language": "python",
   "name": "python3"
  },
  "language_info": {
   "codemirror_mode": {
    "name": "ipython",
    "version": 3
   },
   "file_extension": ".py",
   "mimetype": "text/x-python",
   "name": "python",
   "nbconvert_exporter": "python",
   "pygments_lexer": "ipython3",
   "version": "3.11.5"
  }
 },
 "nbformat": 4,
 "nbformat_minor": 2
}
