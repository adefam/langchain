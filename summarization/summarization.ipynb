{
 "cells": [
  {
   "cell_type": "code",
   "execution_count": 4,
   "metadata": {},
   "outputs": [
    {
     "data": {
      "text/plain": [
       "True"
      ]
     },
     "execution_count": 4,
     "metadata": {},
     "output_type": "execute_result"
    }
   ],
   "source": [
    "import os\n",
    "from dotenv import load_dotenv, find_dotenv\n",
    "load_dotenv(find_dotenv(), override=True)"
   ]
  },
  {
   "cell_type": "markdown",
   "metadata": {},
   "source": [
    "### Basic Prompt\n",
    "This method is not flexible or scalable because it is limited to the model context length, which is around 4096 tokens.\n",
    "\n",
    "The pros of this method are that it only makes a single call to the LM, and when generating text, the LM has access to all of the data at once."
   ]
  },
  {
   "cell_type": "code",
   "execution_count": 5,
   "metadata": {},
   "outputs": [],
   "source": [
    "from langchain.chat_models import ChatOpenAI\n",
    "from langchain.schema import(\n",
    "    AIMessage,\n",
    "    HumanMessage,\n",
    "    SystemMessage\n",
    ")"
   ]
  },
  {
   "cell_type": "code",
   "execution_count": 24,
   "metadata": {},
   "outputs": [],
   "source": [
    "text= \"\"\"\n",
    "Mojo exceptional ability, good luck, success in its earliest sense denoted an object that was believed to carry a magic spell. From there, the word expanded to indicate magic itself and personal use of magic, and mojo's popular use today in reference to seemingly magical influence or ability is informal.\n",
    "\"\"\"\n",
    "\n",
    "messages = [\n",
    "    SystemMessage(content='You are an expert copywriter with expertize in summarizing documents'),\n",
    "    HumanMessage(content=f'Please provide a short and concise summary of the following text:\\n TEXT: {text}')\n",
    "]\n",
    "\n",
    "llm = ChatOpenAI(temperature=0, model_name='gpt-3.5-turbo')"
   ]
  },
  {
   "cell_type": "code",
   "execution_count": 25,
   "metadata": {},
   "outputs": [
    {
     "data": {
      "text/plain": [
       "60"
      ]
     },
     "execution_count": 25,
     "metadata": {},
     "output_type": "execute_result"
    }
   ],
   "source": [
    "llm.get_num_tokens(text)"
   ]
  },
  {
   "cell_type": "code",
   "execution_count": 26,
   "metadata": {},
   "outputs": [
    {
     "name": "stdout",
     "output_type": "stream",
     "text": [
      "[SystemMessage(content='You are an expert copywriter with expertize in summarizing documents'), HumanMessage(content=\"Please provide a short and concise summary of the following text:\\n TEXT: \\nMojo exceptional ability, good luck, success in its earliest sense denoted an object that was believed to carry a magic spell. From there, the word expanded to indicate magic itself and personal use of magic, and mojo's popular use today in reference to seemingly magical influence or ability is informal.\\n\")]\n"
     ]
    }
   ],
   "source": [
    "summary_output = llm(messages)"
   ]
  },
  {
   "cell_type": "code",
   "execution_count": 27,
   "metadata": {},
   "outputs": [
    {
     "name": "stdout",
     "output_type": "stream",
     "text": [
      "Summary:\n",
      "Originally referring to an object believed to possess magical powers, \"mojo\" now commonly signifies a person's exceptional ability or luck, often used informally to describe a seemingly magical influence or skill.\n"
     ]
    }
   ],
   "source": [
    "print(summary_output.content)"
   ]
  },
  {
   "cell_type": "markdown",
   "metadata": {},
   "source": [
    "### Summarizing Using Prompt Template "
   ]
  },
  {
   "cell_type": "code",
   "execution_count": 28,
   "metadata": {},
   "outputs": [],
   "source": [
    "from langchain import PromptTemplate\n",
    "from langchain.chains import LLMChain"
   ]
  },
  {
   "cell_type": "code",
   "execution_count": 29,
   "metadata": {},
   "outputs": [],
   "source": [
    "template = '''\n",
    "Write a concise and short summary of the following text:\n",
    "TEXT: `{text}`\n",
    "Translate the summary of {language}.\n",
    "'''\n",
    "promp = PromptTemplate(\n",
    "    input_variables=['text', 'language'],\n",
    "    template=template\n",
    ")"
   ]
  },
  {
   "cell_type": "code",
   "execution_count": 30,
   "metadata": {},
   "outputs": [
    {
     "data": {
      "text/plain": [
       "81"
      ]
     },
     "execution_count": 30,
     "metadata": {},
     "output_type": "execute_result"
    }
   ],
   "source": [
    "llm.get_num_tokens(promp.format(text=text, language='English'))"
   ]
  },
  {
   "cell_type": "code",
   "execution_count": 31,
   "metadata": {},
   "outputs": [],
   "source": [
    "chain = LLMChain(llm=llm, prompt=promp)\n",
    "summary = chain.run({'text': text, 'language':'yoruba'})"
   ]
  },
  {
   "cell_type": "code",
   "execution_count": 32,
   "metadata": {},
   "outputs": [
    {
     "name": "stdout",
     "output_type": "stream",
     "text": [
      "Summary: Mojo originally referred to an object believed to have magical powers, but now it is commonly used to describe someone's seemingly magical influence or ability.\n",
      "\n",
      "Yoruba Translation: Mojo ti o ti o je ohun ti o gba ase iranlowo, sugbon ni o je lati lo lati so pe eniyan nikan ni o je ohun ti o gba ase iranlowo tabi abiliti ti o je bi ase.\n"
     ]
    }
   ],
   "source": [
    "print(summary)"
   ]
  },
  {
   "cell_type": "markdown",
   "metadata": {},
   "source": [
    "### Summarizing using SuffDocumentChain\n",
    "\n",
    "The downside of this method is that it only works with smaller pieces of data."
   ]
  },
  {
   "cell_type": "code",
   "execution_count": 33,
   "metadata": {},
   "outputs": [],
   "source": [
    "from langchain import PromptTemplate\n",
    "from langchain.chat_models import ChatOpenAI\n",
    "from langchain.chains.summarize import load_summarize_chain\n",
    "from langchain.docstore.document import Document"
   ]
  },
  {
   "cell_type": "code",
   "execution_count": 38,
   "metadata": {},
   "outputs": [],
   "source": [
    "with open('./text.txt', encoding='utf-8') as f:\n",
    "    text = f.read()\n",
    "\n",
    "# text\n",
    "\n",
    "docs = [Document(page_content=text)]\n",
    "llm = ChatOpenAI(temperature=0, model_name='gpt-3.5-turbo')"
   ]
  },
  {
   "cell_type": "code",
   "execution_count": 39,
   "metadata": {},
   "outputs": [],
   "source": [
    "template = '''\n",
    "Write a concise and short summary of the following text. \n",
    "TEXT: `{text}`\n",
    "'''\n",
    "\n",
    "prompt = PromptTemplate(\n",
    "    input_variables=['text'],\n",
    "    template=template\n",
    ")"
   ]
  },
  {
   "cell_type": "code",
   "execution_count": 40,
   "metadata": {},
   "outputs": [],
   "source": [
    "chain = load_summarize_chain(\n",
    "    llm,\n",
    "    chain_type='stuff',\n",
    "    prompt=prompt,\n",
    "    verbose=False\n",
    ")\n",
    "output_summary = chain.run(docs)"
   ]
  },
  {
   "cell_type": "code",
   "execution_count": 41,
   "metadata": {},
   "outputs": [
    {
     "name": "stdout",
     "output_type": "stream",
     "text": [
      "The author apologizes for not being able to provide specific text files related to famous individuals due to copyright concerns. However, they offer to provide information and guidance on various topics related to famous people such as biographical details, quotes, and general information. They encourage the reader to ask for assistance in any other way they may need.\n"
     ]
    }
   ],
   "source": [
    "print(output_summary)"
   ]
  },
  {
   "cell_type": "markdown",
   "metadata": {},
   "source": [
    "### Summarizing Large Documents Using map_reduce\n",
    "MapReduce method will split the document into small chunks that fit within the token limit of the model.\n",
    "It will first summarize each chunk and then it will get a summary of the summaries.\n",
    "MapReduce uses two prompts, an initial one to summarize each chunk of data, and then a different prompt to combine each summary into the final one.\n",
    "\n",
    "Props of the Method:\n",
    "It scales to larger documents, and the call to the LM on individual chunks are independent and can therefore be parallelized.\n",
    "\n",
    "Cons of the Method:\n",
    "It requires many more calls to the LM than staff document chain.\n",
    "It also loses some information during the final combining call."
   ]
  },
  {
   "cell_type": "code",
   "execution_count": 42,
   "metadata": {},
   "outputs": [],
   "source": [
    "from langchain import PromptTemplate\n",
    "from langchain.chat_models import ChatOpenAI\n",
    "from langchain.chains.summarize import load_summarize_chain\n",
    "from langchain.text_splitter import RecursiveCharacterTextSplitter"
   ]
  },
  {
   "cell_type": "code",
   "execution_count": 43,
   "metadata": {},
   "outputs": [],
   "source": [
    "with open('./text.txt', encoding='utf-8') as f:\n",
    "    text = f.read()\n",
    "\n",
    "llm = ChatOpenAI(temperature=0, model_name='gpt-3.5-turbo')"
   ]
  },
  {
   "cell_type": "code",
   "execution_count": 44,
   "metadata": {},
   "outputs": [
    {
     "data": {
      "text/plain": [
       "71"
      ]
     },
     "execution_count": 44,
     "metadata": {},
     "output_type": "execute_result"
    }
   ],
   "source": [
    "llm.get_num_tokens(text)"
   ]
  },
  {
   "cell_type": "code",
   "execution_count": 47,
   "metadata": {},
   "outputs": [],
   "source": [
    "# You can change chunk_size to increase or reduce the chunk number\n",
    "text_splitter = RecursiveCharacterTextSplitter(chunk_size=100, chunk_overlap=50)\n",
    "chunks = text_splitter.create_documents([text])"
   ]
  },
  {
   "cell_type": "code",
   "execution_count": 48,
   "metadata": {},
   "outputs": [
    {
     "data": {
      "text/plain": [
       "7"
      ]
     },
     "execution_count": 48,
     "metadata": {},
     "output_type": "execute_result"
    }
   ],
   "source": [
    "len(chunks)"
   ]
  },
  {
   "cell_type": "code",
   "execution_count": 49,
   "metadata": {},
   "outputs": [],
   "source": [
    "chain = load_summarize_chain(\n",
    "    llm,\n",
    "    chain_type='map_reduce',\n",
    "    verbose=False\n",
    ")\n",
    "output_summary = chain.run(chunks)"
   ]
  },
  {
   "cell_type": "code",
   "execution_count": 50,
   "metadata": {},
   "outputs": [
    {
     "name": "stdout",
     "output_type": "stream",
     "text": [
      "The text apologizes for not being able to provide specific text files related to famous individuals due to copyright restrictions. It offers guidance on providing biographical details, quotes, or general information about famous people and asks for specific instructions on how to do so. Additional information or assistance is also requested.\n"
     ]
    }
   ],
   "source": [
    "print(output_summary)"
   ]
  },
  {
   "cell_type": "code",
   "execution_count": 51,
   "metadata": {},
   "outputs": [
    {
     "data": {
      "text/plain": [
       "'Write a concise summary of the following:\\n\\n\\n\"{text}\"\\n\\n\\nCONCISE SUMMARY:'"
      ]
     },
     "execution_count": 51,
     "metadata": {},
     "output_type": "execute_result"
    }
   ],
   "source": [
    "chain.llm_chain.prompt.template"
   ]
  },
  {
   "cell_type": "code",
   "execution_count": 52,
   "metadata": {},
   "outputs": [
    {
     "data": {
      "text/plain": [
       "'Write a concise summary of the following:\\n\\n\\n\"{text}\"\\n\\n\\nCONCISE SUMMARY:'"
      ]
     },
     "execution_count": 52,
     "metadata": {},
     "output_type": "execute_result"
    }
   ],
   "source": [
    "chain.combine_document_chain.llm_chain.prompt.template"
   ]
  },
  {
   "cell_type": "markdown",
   "metadata": {},
   "source": [
    "### MapReduce with Custom Prompt"
   ]
  },
  {
   "cell_type": "code",
   "execution_count": 53,
   "metadata": {},
   "outputs": [],
   "source": [
    "map_prompt = ''' \n",
    "Write a short and concise summary of the following:\n",
    "Text: `{text}`\n",
    "CONCISE SUMMARY\n",
    "'''\n",
    "map_prompt_template = PromptTemplate(\n",
    "    input_variables=['text'],\n",
    "    template=map_prompt\n",
    ")"
   ]
  },
  {
   "cell_type": "code",
   "execution_count": 54,
   "metadata": {},
   "outputs": [],
   "source": [
    "combine_prompt = ''' \n",
    "Write a concise summary of the following text that covers the key points.\n",
    "Add a title to the summary.\n",
    "Start your summary with an INTRODUCTION PARAGRAPH that gives an overview of the topic FOLLOWED by BULLET POINTS if possible AND end the summary with a CONCLUSION PHRASE.\n",
    "Text: `{text}` \n",
    "'''\n",
    "combine_prompt_template = PromptTemplate(template=combine_prompt, input_variables=['text'])"
   ]
  },
  {
   "cell_type": "code",
   "execution_count": 55,
   "metadata": {},
   "outputs": [],
   "source": [
    "summary_chain = load_summarize_chain(\n",
    "    llm=llm,\n",
    "    chain_type='map_reduce',\n",
    "    map_prompt=map_prompt_template,\n",
    "    combine_prompt=combine_prompt_template,\n",
    "    verbose=False\n",
    ")\n",
    "\n",
    "output = summary_chain.run(chunks)"
   ]
  },
  {
   "cell_type": "code",
   "execution_count": 56,
   "metadata": {},
   "outputs": [
    {
     "name": "stdout",
     "output_type": "stream",
     "text": [
      "Title: Copyright Issues and Biographical Information Requests\n",
      "\n",
      "Introduction:\n",
      "The text addresses the issue of copyright when providing information about famous individuals, as well as the request for biographical details and quotes.\n",
      "\n",
      "Key Points:\n",
      "- Apology for confusion, unable to provide specific text files\n",
      "- Mention of specific text files related to famous individuals\n",
      "- Discussion on potential copyright issues related to providing information about famous individuals\n",
      "- Providing information and guidance on various topics related to copyrighted material\n",
      "- Request for biographical details, quotes, or general information\n",
      "- Request for additional assistance or information\n",
      "\n",
      "Conclusion:\n",
      "The text highlights the importance of considering copyright issues when sharing information about famous individuals and emphasizes the request for biographical details and quotes.\n"
     ]
    }
   ],
   "source": [
    "print(output)"
   ]
  },
  {
   "cell_type": "markdown",
   "metadata": {},
   "source": [
    "### Summarizing Using the refine CombineDocumentChain\n",
    "The method starts by generating a summary for the first chunk of data.  \n",
    "The summary of the first chunk is passed in along with the second chunk, and the LM is asked to refine the summary based on the new document.   \n",
    "\n",
    "Prons:  \n",
    "- Uses a more relevant context (better summarization)\n",
    "- less lossy than map_reduce\n",
    "\n",
    "Cons:\n",
    "- It requires many more calls to the LLM\n",
    "- the calls are not independent and can not be parallelized\n"
   ]
  },
  {
   "cell_type": "code",
   "execution_count": 2,
   "metadata": {},
   "outputs": [],
   "source": [
    "from langchain.chat_models import ChatOpenAI\n",
    "from langchain import PromptTemplate\n",
    "from langchain.chains.summarize import load_summarize_chain\n",
    "from langchain.text_splitter import RecursiveCharacterTextSplitter\n",
    "from langchain.document_loaders import UnstructuredPDFLoader"
   ]
  },
  {
   "cell_type": "code",
   "execution_count": 3,
   "metadata": {},
   "outputs": [
    {
     "data": {
      "text/plain": [
       "True"
      ]
     },
     "execution_count": 3,
     "metadata": {},
     "output_type": "execute_result"
    }
   ],
   "source": [
    "import os\n",
    "from dotenv import load_dotenv, find_dotenv\n",
    "load_dotenv(find_dotenv(), override=True)"
   ]
  },
  {
   "cell_type": "code",
   "execution_count": 4,
   "metadata": {},
   "outputs": [
    {
     "name": "stdout",
     "output_type": "stream",
     "text": [
      "Note: you may need to restart the kernel to use updated packages.\n"
     ]
    }
   ],
   "source": [
    "pip install unstructured -q"
   ]
  },
  {
   "cell_type": "code",
   "execution_count": 65,
   "metadata": {},
   "outputs": [
    {
     "name": "stdout",
     "output_type": "stream",
     "text": [
      "Collecting pdf2image\n",
      "  Downloading pdf2image-1.17.0-py3-none-any.whl.metadata (6.2 kB)\n",
      "Requirement already satisfied: pillow in c:\\users\\user\\appdata\\local\\packages\\pythonsoftwarefoundation.python.3.11_qbz5n2kfra8p0\\localcache\\local-packages\\python311\\site-packages (from pdf2image) (10.2.0)\n",
      "Downloading pdf2image-1.17.0-py3-none-any.whl (11 kB)\n",
      "Installing collected packages: pdf2image\n",
      "Successfully installed pdf2image-1.17.0\n",
      "Note: you may need to restart the kernel to use updated packages.\n"
     ]
    }
   ],
   "source": [
    "pip install pdf2image"
   ]
  },
  {
   "cell_type": "code",
   "execution_count": 76,
   "metadata": {},
   "outputs": [
    {
     "name": "stdout",
     "output_type": "stream",
     "text": [
      "Collecting pdfminer.sixNote: you may need to restart the kernel to use updated packages.\n",
      "\n",
      "  Downloading pdfminer.six-20231228-py3-none-any.whl.metadata (4.2 kB)\n",
      "Requirement already satisfied: charset-normalizer>=2.0.0 in c:\\users\\user\\appdata\\local\\packages\\pythonsoftwarefoundation.python.3.11_qbz5n2kfra8p0\\localcache\\local-packages\\python311\\site-packages (from pdfminer.six) (3.3.2)\n",
      "Collecting cryptography>=36.0.0 (from pdfminer.six)\n",
      "  Downloading cryptography-42.0.5-cp39-abi3-win_amd64.whl.metadata (5.4 kB)\n",
      "Collecting cffi>=1.12 (from cryptography>=36.0.0->pdfminer.six)\n",
      "  Downloading cffi-1.16.0-cp311-cp311-win_amd64.whl.metadata (1.5 kB)\n",
      "Collecting pycparser (from cffi>=1.12->cryptography>=36.0.0->pdfminer.six)\n",
      "  Downloading pycparser-2.22-py3-none-any.whl.metadata (943 bytes)\n",
      "Downloading pdfminer.six-20231228-py3-none-any.whl (5.6 MB)\n",
      "   ---------------------------------------- 0.0/5.6 MB ? eta -:--:--\n",
      "   ---------------------------------------- 0.0/5.6 MB ? eta -:--:--\n",
      "   ---------------------------------------- 0.0/5.6 MB ? eta -:--:--\n",
      "   ---------------------------------------- 0.0/5.6 MB ? eta -:--:--\n",
      "   ---------------------------------------- 0.0/5.6 MB 146.3 kB/s eta 0:00:39\n",
      "   ---------------------------------------- 0.0/5.6 MB 146.3 kB/s eta 0:00:39\n",
      "   ---------------------------------------- 0.0/5.6 MB 146.3 kB/s eta 0:00:39\n",
      "   ---------------------------------------- 0.1/5.6 MB 173.0 kB/s eta 0:00:33\n",
      "   ---------------------------------------- 0.1/5.6 MB 173.0 kB/s eta 0:00:33\n",
      "   ---------------------------------------- 0.1/5.6 MB 173.0 kB/s eta 0:00:33\n",
      "   ---------------------------------------- 0.1/5.6 MB 173.0 kB/s eta 0:00:33\n",
      "   ---------------------------------------- 0.1/5.6 MB 173.0 kB/s eta 0:00:33\n",
      "   ---------------------------------------- 0.1/5.6 MB 173.0 kB/s eta 0:00:33\n",
      "   ---------------------------------------- 0.1/5.6 MB 173.0 kB/s eta 0:00:33\n",
      "    --------------------------------------- 0.1/5.6 MB 138.1 kB/s eta 0:00:40\n",
      "    --------------------------------------- 0.1/5.6 MB 138.1 kB/s eta 0:00:40\n",
      "    --------------------------------------- 0.1/5.6 MB 134.1 kB/s eta 0:00:42\n",
      "    --------------------------------------- 0.1/5.6 MB 153.5 kB/s eta 0:00:36\n",
      "    --------------------------------------- 0.1/5.6 MB 153.5 kB/s eta 0:00:36\n",
      "    --------------------------------------- 0.1/5.6 MB 153.5 kB/s eta 0:00:36\n",
      "   - -------------------------------------- 0.2/5.6 MB 161.1 kB/s eta 0:00:34\n",
      "   - -------------------------------------- 0.2/5.6 MB 161.1 kB/s eta 0:00:34\n",
      "   - -------------------------------------- 0.2/5.6 MB 169.3 kB/s eta 0:00:33\n",
      "   - -------------------------------------- 0.2/5.6 MB 169.3 kB/s eta 0:00:33\n",
      "   - -------------------------------------- 0.2/5.6 MB 215.4 kB/s eta 0:00:25\n",
      "   - -------------------------------------- 0.2/5.6 MB 215.4 kB/s eta 0:00:25\n",
      "   - -------------------------------------- 0.2/5.6 MB 215.4 kB/s eta 0:00:25\n",
      "   - -------------------------------------- 0.2/5.6 MB 215.4 kB/s eta 0:00:25\n",
      "   - -------------------------------------- 0.2/5.6 MB 215.4 kB/s eta 0:00:25\n",
      "   - -------------------------------------- 0.2/5.6 MB 215.4 kB/s eta 0:00:25\n",
      "   - -------------------------------------- 0.2/5.6 MB 215.4 kB/s eta 0:00:25\n",
      "   - -------------------------------------- 0.2/5.6 MB 215.4 kB/s eta 0:00:25\n",
      "   - -------------------------------------- 0.2/5.6 MB 215.4 kB/s eta 0:00:25\n",
      "   - -------------------------------------- 0.2/5.6 MB 215.4 kB/s eta 0:00:25\n",
      "   - -------------------------------------- 0.2/5.6 MB 215.4 kB/s eta 0:00:25\n",
      "   - -------------------------------------- 0.2/5.6 MB 215.4 kB/s eta 0:00:25\n",
      "   - -------------------------------------- 0.2/5.6 MB 215.4 kB/s eta 0:00:25\n",
      "   - -------------------------------------- 0.2/5.6 MB 215.4 kB/s eta 0:00:25\n",
      "   - -------------------------------------- 0.2/5.6 MB 215.4 kB/s eta 0:00:25\n",
      "   - -------------------------------------- 0.2/5.6 MB 215.4 kB/s eta 0:00:25\n",
      "   - -------------------------------------- 0.2/5.6 MB 215.4 kB/s eta 0:00:25\n",
      "   - -------------------------------------- 0.2/5.6 MB 215.4 kB/s eta 0:00:25\n",
      "   - -------------------------------------- 0.2/5.6 MB 215.4 kB/s eta 0:00:25\n",
      "   - -------------------------------------- 0.2/5.6 MB 215.4 kB/s eta 0:00:25\n",
      "   - -------------------------------------- 0.2/5.6 MB 215.4 kB/s eta 0:00:25\n",
      "   - -------------------------------------- 0.2/5.6 MB 215.4 kB/s eta 0:00:25\n",
      "   - -------------------------------------- 0.2/5.6 MB 215.4 kB/s eta 0:00:25\n",
      "   - -------------------------------------- 0.2/5.6 MB 215.4 kB/s eta 0:00:25\n",
      "   - -------------------------------------- 0.2/5.6 MB 215.4 kB/s eta 0:00:25\n",
      "   - -------------------------------------- 0.2/5.6 MB 215.4 kB/s eta 0:00:25\n",
      "   -- ------------------------------------- 0.3/5.6 MB 151.3 kB/s eta 0:00:35\n",
      "   -- ------------------------------------- 0.3/5.6 MB 151.3 kB/s eta 0:00:35\n",
      "   -- ------------------------------------- 0.3/5.6 MB 151.3 kB/s eta 0:00:35\n",
      "   --- ------------------------------------ 0.5/5.6 MB 209.9 kB/s eta 0:00:25\n",
      "   --- ------------------------------------ 0.5/5.6 MB 209.9 kB/s eta 0:00:25\n",
      "   --- ------------------------------------ 0.5/5.6 MB 209.9 kB/s eta 0:00:25\n",
      "   --- ------------------------------------ 0.5/5.6 MB 209.9 kB/s eta 0:00:25\n",
      "   --- ------------------------------------ 0.5/5.6 MB 209.9 kB/s eta 0:00:25\n",
      "   --- ------------------------------------ 0.5/5.6 MB 209.9 kB/s eta 0:00:25\n",
      "   --- ------------------------------------ 0.5/5.6 MB 209.9 kB/s eta 0:00:25\n",
      "   --- ------------------------------------ 0.5/5.6 MB 209.9 kB/s eta 0:00:25\n",
      "   --- ------------------------------------ 0.5/5.6 MB 209.9 kB/s eta 0:00:25\n",
      "   --- ------------------------------------ 0.5/5.6 MB 183.7 kB/s eta 0:00:28\n",
      "   ---- ----------------------------------- 0.6/5.6 MB 194.5 kB/s eta 0:00:26\n",
      "   ---- ----------------------------------- 0.6/5.6 MB 194.5 kB/s eta 0:00:26\n",
      "   ---- ----------------------------------- 0.6/5.6 MB 194.5 kB/s eta 0:00:26\n",
      "   ---- ----------------------------------- 0.6/5.6 MB 194.5 kB/s eta 0:00:26\n",
      "   ---- ----------------------------------- 0.6/5.6 MB 194.5 kB/s eta 0:00:26\n",
      "   ---- ----------------------------------- 0.6/5.6 MB 194.5 kB/s eta 0:00:26\n",
      "   ---- ----------------------------------- 0.6/5.6 MB 194.5 kB/s eta 0:00:26\n",
      "   ---- ----------------------------------- 0.6/5.6 MB 194.5 kB/s eta 0:00:26\n",
      "   ---- ----------------------------------- 0.6/5.6 MB 194.5 kB/s eta 0:00:26\n",
      "   ---- ----------------------------------- 0.6/5.6 MB 174.8 kB/s eta 0:00:29\n",
      "   ---- ----------------------------------- 0.6/5.6 MB 192.6 kB/s eta 0:00:26\n",
      "   ---- ----------------------------------- 0.6/5.6 MB 192.6 kB/s eta 0:00:26\n",
      "   ---- ----------------------------------- 0.7/5.6 MB 194.2 kB/s eta 0:00:26\n",
      "   ---- ----------------------------------- 0.7/5.6 MB 199.6 kB/s eta 0:00:25\n",
      "   ---- ----------------------------------- 0.7/5.6 MB 199.6 kB/s eta 0:00:25\n",
      "   ---- ----------------------------------- 0.7/5.6 MB 199.6 kB/s eta 0:00:25\n",
      "   ---- ----------------------------------- 0.7/5.6 MB 199.6 kB/s eta 0:00:25\n",
      "   ---- ----------------------------------- 0.7/5.6 MB 199.6 kB/s eta 0:00:25\n",
      "   ---- ----------------------------------- 0.7/5.6 MB 199.6 kB/s eta 0:00:25\n",
      "   ---- ----------------------------------- 0.7/5.6 MB 199.6 kB/s eta 0:00:25\n",
      "   ----- ---------------------------------- 0.7/5.6 MB 195.8 kB/s eta 0:00:25\n",
      "   ----- ---------------------------------- 0.7/5.6 MB 195.8 kB/s eta 0:00:25\n",
      "   ----- ---------------------------------- 0.7/5.6 MB 195.8 kB/s eta 0:00:25\n",
      "   ----- ---------------------------------- 0.7/5.6 MB 195.8 kB/s eta 0:00:25\n",
      "   ----- ---------------------------------- 0.7/5.6 MB 195.8 kB/s eta 0:00:25\n",
      "   ----- ---------------------------------- 0.7/5.6 MB 195.8 kB/s eta 0:00:25\n",
      "   ----- ---------------------------------- 0.7/5.6 MB 195.8 kB/s eta 0:00:25\n",
      "   ----- ---------------------------------- 0.7/5.6 MB 195.8 kB/s eta 0:00:25\n",
      "   ----- ---------------------------------- 0.7/5.6 MB 195.8 kB/s eta 0:00:25\n",
      "   ----- ---------------------------------- 0.7/5.6 MB 195.8 kB/s eta 0:00:25\n",
      "   ----- ---------------------------------- 0.7/5.6 MB 195.8 kB/s eta 0:00:25\n",
      "   ----- ---------------------------------- 0.7/5.6 MB 195.8 kB/s eta 0:00:25\n",
      "   ----- ---------------------------------- 0.7/5.6 MB 195.8 kB/s eta 0:00:25\n",
      "   ------ --------------------------------- 0.9/5.6 MB 213.8 kB/s eta 0:00:22\n",
      "   ------ --------------------------------- 0.9/5.6 MB 213.8 kB/s eta 0:00:22\n",
      "   ------ --------------------------------- 0.9/5.6 MB 213.8 kB/s eta 0:00:22\n",
      "   ------- -------------------------------- 1.0/5.6 MB 218.5 kB/s eta 0:00:22\n",
      "   ------- -------------------------------- 1.0/5.6 MB 218.5 kB/s eta 0:00:22\n",
      "   ------- -------------------------------- 1.0/5.6 MB 218.5 kB/s eta 0:00:22\n",
      "   ------- -------------------------------- 1.0/5.6 MB 214.8 kB/s eta 0:00:22\n",
      "   ------- -------------------------------- 1.1/5.6 MB 226.5 kB/s eta 0:00:21\n",
      "   ------- -------------------------------- 1.1/5.6 MB 226.5 kB/s eta 0:00:21\n",
      "   ------- -------------------------------- 1.1/5.6 MB 226.5 kB/s eta 0:00:21\n",
      "   ------- -------------------------------- 1.1/5.6 MB 229.2 kB/s eta 0:00:20\n",
      "   ------- -------------------------------- 1.1/5.6 MB 229.2 kB/s eta 0:00:20\n",
      "   ------- -------------------------------- 1.1/5.6 MB 229.2 kB/s eta 0:00:20\n",
      "   ------- -------------------------------- 1.1/5.6 MB 229.2 kB/s eta 0:00:20\n",
      "   -------- ------------------------------- 1.2/5.6 MB 236.5 kB/s eta 0:00:19\n",
      "   -------- ------------------------------- 1.2/5.6 MB 236.5 kB/s eta 0:00:19\n",
      "   -------- ------------------------------- 1.2/5.6 MB 234.1 kB/s eta 0:00:19\n",
      "   -------- ------------------------------- 1.2/5.6 MB 241.3 kB/s eta 0:00:19\n",
      "   -------- ------------------------------- 1.2/5.6 MB 241.3 kB/s eta 0:00:19\n",
      "   -------- ------------------------------- 1.2/5.6 MB 241.3 kB/s eta 0:00:19\n",
      "   -------- ------------------------------- 1.2/5.6 MB 241.3 kB/s eta 0:00:19\n",
      "   -------- ------------------------------- 1.2/5.6 MB 241.3 kB/s eta 0:00:19\n",
      "   -------- ------------------------------- 1.2/5.6 MB 241.3 kB/s eta 0:00:19\n",
      "   -------- ------------------------------- 1.3/5.6 MB 232.4 kB/s eta 0:00:19\n",
      "   --------- ------------------------------ 1.4/5.6 MB 248.1 kB/s eta 0:00:18\n",
      "   --------- ------------------------------ 1.4/5.6 MB 248.1 kB/s eta 0:00:18\n",
      "   --------- ------------------------------ 1.4/5.6 MB 248.1 kB/s eta 0:00:18\n",
      "   --------- ------------------------------ 1.4/5.6 MB 248.1 kB/s eta 0:00:18\n",
      "   --------- ------------------------------ 1.4/5.6 MB 248.1 kB/s eta 0:00:18\n",
      "   --------- ------------------------------ 1.4/5.6 MB 248.1 kB/s eta 0:00:18\n",
      "   --------- ------------------------------ 1.4/5.6 MB 248.1 kB/s eta 0:00:18\n",
      "   --------- ------------------------------ 1.4/5.6 MB 241.3 kB/s eta 0:00:18\n",
      "   --------- ------------------------------ 1.4/5.6 MB 241.3 kB/s eta 0:00:18\n",
      "   --------- ------------------------------ 1.4/5.6 MB 237.2 kB/s eta 0:00:18\n",
      "   ---------- ----------------------------- 1.4/5.6 MB 239.4 kB/s eta 0:00:18\n",
      "   ---------- ----------------------------- 1.4/5.6 MB 239.4 kB/s eta 0:00:18\n",
      "   ---------- ----------------------------- 1.4/5.6 MB 239.4 kB/s eta 0:00:18\n",
      "   ---------- ----------------------------- 1.4/5.6 MB 239.4 kB/s eta 0:00:18\n",
      "   ---------- ----------------------------- 1.4/5.6 MB 239.4 kB/s eta 0:00:18\n",
      "   ---------- ----------------------------- 1.4/5.6 MB 239.4 kB/s eta 0:00:18\n",
      "   ---------- ----------------------------- 1.5/5.6 MB 236.8 kB/s eta 0:00:18\n",
      "   ---------- ----------------------------- 1.5/5.6 MB 241.2 kB/s eta 0:00:18\n",
      "   ---------- ----------------------------- 1.5/5.6 MB 241.2 kB/s eta 0:00:18\n",
      "   ---------- ----------------------------- 1.5/5.6 MB 241.2 kB/s eta 0:00:18\n",
      "   ---------- ----------------------------- 1.5/5.6 MB 241.2 kB/s eta 0:00:18\n",
      "   ---------- ----------------------------- 1.5/5.6 MB 241.2 kB/s eta 0:00:18\n",
      "   ---------- ----------------------------- 1.5/5.6 MB 241.2 kB/s eta 0:00:18\n",
      "   ----------- ---------------------------- 1.6/5.6 MB 247.5 kB/s eta 0:00:17\n",
      "   ----------- ---------------------------- 1.6/5.6 MB 247.5 kB/s eta 0:00:17\n",
      "   ----------- ---------------------------- 1.6/5.6 MB 247.5 kB/s eta 0:00:17\n",
      "   ----------- ---------------------------- 1.6/5.6 MB 246.0 kB/s eta 0:00:17\n",
      "   ----------- ---------------------------- 1.6/5.6 MB 246.0 kB/s eta 0:00:17\n",
      "   ----------- ---------------------------- 1.6/5.6 MB 246.0 kB/s eta 0:00:17\n",
      "   ----------- ---------------------------- 1.6/5.6 MB 243.5 kB/s eta 0:00:17\n",
      "   ------------ --------------------------- 1.7/5.6 MB 249.4 kB/s eta 0:00:16\n",
      "   ------------ --------------------------- 1.7/5.6 MB 249.4 kB/s eta 0:00:16\n",
      "   ------------ --------------------------- 1.7/5.6 MB 249.4 kB/s eta 0:00:16\n",
      "   ------------ --------------------------- 1.8/5.6 MB 255.6 kB/s eta 0:00:16\n",
      "   ------------ --------------------------- 1.8/5.6 MB 255.6 kB/s eta 0:00:16\n",
      "   ------------ --------------------------- 1.8/5.6 MB 255.6 kB/s eta 0:00:16\n",
      "   ------------ --------------------------- 1.8/5.6 MB 254.9 kB/s eta 0:00:15\n",
      "   ------------- -------------------------- 1.9/5.6 MB 261.6 kB/s eta 0:00:15\n",
      "   ------------- -------------------------- 1.9/5.6 MB 261.6 kB/s eta 0:00:15\n",
      "   ------------- -------------------------- 1.9/5.6 MB 261.6 kB/s eta 0:00:15\n",
      "   ------------- -------------------------- 1.9/5.6 MB 261.6 kB/s eta 0:00:15\n",
      "   ------------- -------------------------- 1.9/5.6 MB 261.6 kB/s eta 0:00:15\n",
      "   ------------- -------------------------- 1.9/5.6 MB 261.6 kB/s eta 0:00:15\n",
      "   ------------- -------------------------- 1.9/5.6 MB 253.8 kB/s eta 0:00:15\n",
      "   -------------- ------------------------- 2.0/5.6 MB 265.8 kB/s eta 0:00:14\n",
      "   -------------- ------------------------- 2.0/5.6 MB 265.8 kB/s eta 0:00:14\n",
      "   -------------- ------------------------- 2.0/5.6 MB 265.8 kB/s eta 0:00:14\n",
      "   -------------- ------------------------- 2.0/5.6 MB 265.8 kB/s eta 0:00:14\n",
      "   -------------- ------------------------- 2.0/5.6 MB 265.8 kB/s eta 0:00:14\n",
      "   -------------- ------------------------- 2.0/5.6 MB 265.8 kB/s eta 0:00:14\n",
      "   -------------- ------------------------- 2.0/5.6 MB 260.0 kB/s eta 0:00:14\n",
      "   -------------- ------------------------- 2.1/5.6 MB 270.2 kB/s eta 0:00:14\n",
      "   -------------- ------------------------- 2.1/5.6 MB 270.2 kB/s eta 0:00:14\n",
      "   -------------- ------------------------- 2.1/5.6 MB 270.2 kB/s eta 0:00:14\n",
      "   -------------- ------------------------- 2.1/5.6 MB 270.2 kB/s eta 0:00:14\n",
      "   -------------- ------------------------- 2.1/5.6 MB 270.2 kB/s eta 0:00:14\n",
      "   -------------- ------------------------- 2.1/5.6 MB 270.2 kB/s eta 0:00:14\n",
      "   --------------- ------------------------ 2.1/5.6 MB 263.9 kB/s eta 0:00:14\n",
      "   --------------- ------------------------ 2.2/5.6 MB 270.4 kB/s eta 0:00:13\n",
      "   --------------- ------------------------ 2.2/5.6 MB 270.4 kB/s eta 0:00:13\n",
      "   --------------- ------------------------ 2.2/5.6 MB 270.4 kB/s eta 0:00:13\n",
      "   --------------- ------------------------ 2.2/5.6 MB 270.4 kB/s eta 0:00:13\n",
      "   --------------- ------------------------ 2.2/5.6 MB 270.4 kB/s eta 0:00:13\n",
      "   --------------- ------------------------ 2.2/5.6 MB 270.4 kB/s eta 0:00:13\n",
      "   --------------- ------------------------ 2.2/5.6 MB 268.1 kB/s eta 0:00:13\n",
      "   --------------- ------------------------ 2.2/5.6 MB 268.1 kB/s eta 0:00:13\n",
      "   --------------- ------------------------ 2.2/5.6 MB 268.1 kB/s eta 0:00:13\n",
      "   --------------- ------------------------ 2.2/5.6 MB 268.1 kB/s eta 0:00:13\n",
      "   --------------- ------------------------ 2.2/5.6 MB 268.1 kB/s eta 0:00:13\n",
      "   --------------- ------------------------ 2.2/5.6 MB 268.1 kB/s eta 0:00:13\n",
      "   --------------- ------------------------ 2.2/5.6 MB 268.1 kB/s eta 0:00:13\n",
      "   --------------- ------------------------ 2.2/5.6 MB 268.1 kB/s eta 0:00:13\n",
      "   --------------- ------------------------ 2.2/5.6 MB 268.1 kB/s eta 0:00:13\n",
      "   --------------- ------------------------ 2.2/5.6 MB 268.1 kB/s eta 0:00:13\n",
      "   --------------- ------------------------ 2.2/5.6 MB 268.1 kB/s eta 0:00:13\n",
      "   --------------- ------------------------ 2.2/5.6 MB 268.1 kB/s eta 0:00:13\n",
      "   --------------- ------------------------ 2.2/5.6 MB 268.1 kB/s eta 0:00:13\n",
      "   --------------- ------------------------ 2.2/5.6 MB 268.1 kB/s eta 0:00:13\n",
      "   --------------- ------------------------ 2.2/5.6 MB 268.1 kB/s eta 0:00:13\n",
      "   --------------- ------------------------ 2.2/5.6 MB 268.1 kB/s eta 0:00:13\n",
      "   --------------- ------------------------ 2.2/5.6 MB 268.1 kB/s eta 0:00:13\n",
      "   --------------- ------------------------ 2.2/5.6 MB 268.1 kB/s eta 0:00:13\n",
      "   --------------- ------------------------ 2.2/5.6 MB 268.1 kB/s eta 0:00:13\n",
      "   --------------- ------------------------ 2.2/5.6 MB 268.1 kB/s eta 0:00:13\n",
      "   --------------- ------------------------ 2.2/5.6 MB 268.1 kB/s eta 0:00:13\n",
      "   --------------- ------------------------ 2.2/5.6 MB 268.1 kB/s eta 0:00:13\n",
      "   --------------- ------------------------ 2.2/5.6 MB 268.1 kB/s eta 0:00:13\n",
      "   --------------- ------------------------ 2.2/5.6 MB 268.1 kB/s eta 0:00:13\n",
      "   --------------- ------------------------ 2.2/5.6 MB 268.1 kB/s eta 0:00:13\n",
      "   --------------- ------------------------ 2.2/5.6 MB 268.1 kB/s eta 0:00:13\n",
      "   --------------- ------------------------ 2.2/5.6 MB 268.1 kB/s eta 0:00:13\n",
      "   --------------- ------------------------ 2.2/5.6 MB 268.1 kB/s eta 0:00:13\n",
      "   --------------- ------------------------ 2.2/5.6 MB 268.1 kB/s eta 0:00:13\n",
      "   --------------- ------------------------ 2.2/5.6 MB 268.1 kB/s eta 0:00:13\n",
      "   ---------------- ----------------------- 2.4/5.6 MB 248.0 kB/s eta 0:00:14\n",
      "   ----------------- ---------------------- 2.4/5.6 MB 250.2 kB/s eta 0:00:13\n",
      "   ----------------- ---------------------- 2.4/5.6 MB 250.2 kB/s eta 0:00:13\n",
      "   ----------------- ---------------------- 2.4/5.6 MB 250.2 kB/s eta 0:00:13\n",
      "   ----------------- ---------------------- 2.4/5.6 MB 249.3 kB/s eta 0:00:13\n",
      "   ----------------- ---------------------- 2.4/5.6 MB 249.3 kB/s eta 0:00:13\n",
      "   ----------------- ---------------------- 2.4/5.6 MB 249.3 kB/s eta 0:00:13\n",
      "   ----------------- ---------------------- 2.4/5.6 MB 249.3 kB/s eta 0:00:13\n",
      "   ----------------- ---------------------- 2.4/5.6 MB 249.3 kB/s eta 0:00:13\n",
      "   ----------------- ---------------------- 2.4/5.6 MB 249.3 kB/s eta 0:00:13\n",
      "   ----------------- ---------------------- 2.4/5.6 MB 249.3 kB/s eta 0:00:13\n",
      "   ----------------- ---------------------- 2.4/5.6 MB 243.0 kB/s eta 0:00:14\n",
      "   ----------------- ---------------------- 2.4/5.6 MB 243.0 kB/s eta 0:00:14\n",
      "   ----------------- ---------------------- 2.4/5.6 MB 243.0 kB/s eta 0:00:14\n",
      "   ----------------- ---------------------- 2.4/5.6 MB 243.0 kB/s eta 0:00:14\n",
      "   ----------------- ---------------------- 2.4/5.6 MB 243.0 kB/s eta 0:00:14\n",
      "   ----------------- ---------------------- 2.4/5.6 MB 243.0 kB/s eta 0:00:14\n",
      "   ----------------- ---------------------- 2.4/5.6 MB 243.0 kB/s eta 0:00:14\n",
      "   ----------------- ---------------------- 2.5/5.6 MB 239.9 kB/s eta 0:00:14\n",
      "   ----------------- ---------------------- 2.5/5.6 MB 239.9 kB/s eta 0:00:14\n",
      "   ----------------- ---------------------- 2.5/5.6 MB 239.9 kB/s eta 0:00:14\n",
      "   ------------------ --------------------- 2.5/5.6 MB 240.3 kB/s eta 0:00:13\n",
      "   ------------------ --------------------- 2.5/5.6 MB 240.3 kB/s eta 0:00:13\n",
      "   ------------------ --------------------- 2.5/5.6 MB 240.3 kB/s eta 0:00:13\n",
      "   ------------------ --------------------- 2.5/5.6 MB 240.3 kB/s eta 0:00:13\n",
      "   ------------------ --------------------- 2.6/5.6 MB 240.6 kB/s eta 0:00:13\n",
      "   ------------------ --------------------- 2.6/5.6 MB 240.6 kB/s eta 0:00:13\n",
      "   ------------------ --------------------- 2.6/5.6 MB 240.6 kB/s eta 0:00:13\n",
      "   ------------------ --------------------- 2.6/5.6 MB 243.2 kB/s eta 0:00:13\n",
      "   ------------------ --------------------- 2.6/5.6 MB 243.2 kB/s eta 0:00:13\n",
      "   ------------------ --------------------- 2.6/5.6 MB 243.2 kB/s eta 0:00:13\n",
      "   ------------------ --------------------- 2.6/5.6 MB 243.2 kB/s eta 0:00:13\n",
      "   ------------------- -------------------- 2.7/5.6 MB 244.4 kB/s eta 0:00:12\n",
      "   ------------------- -------------------- 2.7/5.6 MB 244.4 kB/s eta 0:00:12\n",
      "   ------------------- -------------------- 2.7/5.6 MB 244.4 kB/s eta 0:00:12\n",
      "   ------------------- -------------------- 2.7/5.6 MB 244.4 kB/s eta 0:00:12\n",
      "   ------------------- -------------------- 2.7/5.6 MB 244.4 kB/s eta 0:00:12\n",
      "   ------------------- -------------------- 2.7/5.6 MB 244.4 kB/s eta 0:00:12\n",
      "   ------------------- -------------------- 2.7/5.6 MB 244.4 kB/s eta 0:00:12\n",
      "   ------------------- -------------------- 2.7/5.6 MB 238.5 kB/s eta 0:00:13\n",
      "   ------------------- -------------------- 2.7/5.6 MB 238.5 kB/s eta 0:00:13\n",
      "   ------------------- -------------------- 2.7/5.6 MB 238.5 kB/s eta 0:00:13\n",
      "   ------------------- -------------------- 2.7/5.6 MB 238.5 kB/s eta 0:00:13\n",
      "   ------------------- -------------------- 2.7/5.6 MB 238.5 kB/s eta 0:00:13\n",
      "   ------------------- -------------------- 2.7/5.6 MB 238.5 kB/s eta 0:00:13\n",
      "   ------------------- -------------------- 2.7/5.6 MB 234.4 kB/s eta 0:00:13\n",
      "   ------------------- -------------------- 2.7/5.6 MB 235.0 kB/s eta 0:00:13\n",
      "   ------------------- -------------------- 2.7/5.6 MB 235.0 kB/s eta 0:00:13\n",
      "   ------------------- -------------------- 2.7/5.6 MB 233.9 kB/s eta 0:00:13\n",
      "   ------------------- -------------------- 2.7/5.6 MB 233.9 kB/s eta 0:00:13\n",
      "   ------------------- -------------------- 2.7/5.6 MB 233.9 kB/s eta 0:00:13\n",
      "   ------------------- -------------------- 2.7/5.6 MB 233.9 kB/s eta 0:00:13\n",
      "   -------------------- ------------------- 2.9/5.6 MB 240.0 kB/s eta 0:00:12\n",
      "   -------------------- ------------------- 2.9/5.6 MB 240.0 kB/s eta 0:00:12\n",
      "   -------------------- ------------------- 2.9/5.6 MB 240.0 kB/s eta 0:00:12\n",
      "   -------------------- ------------------- 2.9/5.6 MB 239.6 kB/s eta 0:00:12\n",
      "   -------------------- ------------------- 2.9/5.6 MB 239.6 kB/s eta 0:00:12\n",
      "   -------------------- ------------------- 2.9/5.6 MB 239.6 kB/s eta 0:00:12\n",
      "   -------------------- ------------------- 2.9/5.6 MB 239.0 kB/s eta 0:00:12\n",
      "   -------------------- ------------------- 2.9/5.6 MB 239.0 kB/s eta 0:00:12\n",
      "   -------------------- ------------------- 2.9/5.6 MB 239.5 kB/s eta 0:00:12\n",
      "   -------------------- ------------------- 2.9/5.6 MB 239.5 kB/s eta 0:00:12\n",
      "   --------------------- ------------------ 3.0/5.6 MB 241.2 kB/s eta 0:00:11\n",
      "   --------------------- ------------------ 3.0/5.6 MB 241.2 kB/s eta 0:00:11\n",
      "   --------------------- ------------------ 3.0/5.6 MB 241.2 kB/s eta 0:00:11\n",
      "   --------------------- ------------------ 3.0/5.6 MB 243.4 kB/s eta 0:00:11\n",
      "   --------------------- ------------------ 3.0/5.6 MB 243.4 kB/s eta 0:00:11\n",
      "   --------------------- ------------------ 3.0/5.6 MB 243.4 kB/s eta 0:00:11\n",
      "   --------------------- ------------------ 3.0/5.6 MB 243.4 kB/s eta 0:00:11\n",
      "   --------------------- ------------------ 3.0/5.6 MB 243.4 kB/s eta 0:00:11\n",
      "   --------------------- ------------------ 3.0/5.6 MB 243.4 kB/s eta 0:00:11\n",
      "   --------------------- ------------------ 3.1/5.6 MB 239.6 kB/s eta 0:00:11\n",
      "   ---------------------- ----------------- 3.1/5.6 MB 244.2 kB/s eta 0:00:11\n",
      "   ---------------------- ----------------- 3.1/5.6 MB 244.2 kB/s eta 0:00:11\n",
      "   ---------------------- ----------------- 3.1/5.6 MB 244.2 kB/s eta 0:00:11\n",
      "   ---------------------- ----------------- 3.1/5.6 MB 244.2 kB/s eta 0:00:11\n",
      "   ---------------------- ----------------- 3.1/5.6 MB 244.2 kB/s eta 0:00:11\n",
      "   ---------------------- ----------------- 3.1/5.6 MB 244.2 kB/s eta 0:00:11\n",
      "   ---------------------- ----------------- 3.2/5.6 MB 240.7 kB/s eta 0:00:11\n",
      "   ---------------------- ----------------- 3.2/5.6 MB 240.7 kB/s eta 0:00:11\n",
      "   ---------------------- ----------------- 3.2/5.6 MB 240.7 kB/s eta 0:00:11\n",
      "   ---------------------- ----------------- 3.2/5.6 MB 240.7 kB/s eta 0:00:11\n",
      "   ---------------------- ----------------- 3.2/5.6 MB 240.7 kB/s eta 0:00:11\n",
      "   ---------------------- ----------------- 3.2/5.6 MB 240.7 kB/s eta 0:00:11\n",
      "   ---------------------- ----------------- 3.2/5.6 MB 240.7 kB/s eta 0:00:11\n",
      "   ---------------------- ----------------- 3.2/5.6 MB 240.7 kB/s eta 0:00:11\n",
      "   ---------------------- ----------------- 3.2/5.6 MB 240.7 kB/s eta 0:00:11\n",
      "   ---------------------- ----------------- 3.2/5.6 MB 240.7 kB/s eta 0:00:11\n",
      "   ---------------------- ----------------- 3.2/5.6 MB 240.7 kB/s eta 0:00:11\n",
      "   ---------------------- ----------------- 3.2/5.6 MB 240.7 kB/s eta 0:00:11\n",
      "   ---------------------- ----------------- 3.2/5.6 MB 240.7 kB/s eta 0:00:11\n",
      "   ---------------------- ----------------- 3.2/5.6 MB 240.7 kB/s eta 0:00:11\n",
      "   ---------------------- ----------------- 3.2/5.6 MB 240.7 kB/s eta 0:00:11\n",
      "   ---------------------- ----------------- 3.2/5.6 MB 240.7 kB/s eta 0:00:11\n",
      "   ---------------------- ----------------- 3.2/5.6 MB 233.3 kB/s eta 0:00:11\n",
      "   ----------------------- ---------------- 3.3/5.6 MB 235.3 kB/s eta 0:00:11\n",
      "   ----------------------- ---------------- 3.3/5.6 MB 235.3 kB/s eta 0:00:11\n",
      "   ----------------------- ---------------- 3.3/5.6 MB 235.3 kB/s eta 0:00:11\n",
      "   ----------------------- ---------------- 3.3/5.6 MB 236.6 kB/s eta 0:00:10\n",
      "   ----------------------- ---------------- 3.3/5.6 MB 236.6 kB/s eta 0:00:10\n",
      "   ----------------------- ---------------- 3.3/5.6 MB 236.6 kB/s eta 0:00:10\n",
      "   ----------------------- ---------------- 3.3/5.6 MB 236.1 kB/s eta 0:00:10\n",
      "   ----------------------- ---------------- 3.3/5.6 MB 236.1 kB/s eta 0:00:10\n",
      "   ----------------------- ---------------- 3.3/5.6 MB 236.1 kB/s eta 0:00:10\n",
      "   ------------------------ --------------- 3.4/5.6 MB 236.0 kB/s eta 0:00:10\n",
      "   ------------------------ --------------- 3.4/5.6 MB 236.0 kB/s eta 0:00:10\n",
      "   ------------------------ --------------- 3.4/5.6 MB 236.0 kB/s eta 0:00:10\n",
      "   ------------------------ --------------- 3.4/5.6 MB 236.0 kB/s eta 0:00:10\n",
      "   ------------------------ --------------- 3.4/5.6 MB 236.0 kB/s eta 0:00:10\n",
      "   ------------------------ --------------- 3.4/5.6 MB 236.0 kB/s eta 0:00:10\n",
      "   ------------------------ --------------- 3.4/5.6 MB 232.6 kB/s eta 0:00:10\n",
      "   ------------------------ --------------- 3.5/5.6 MB 238.4 kB/s eta 0:00:09\n",
      "   ------------------------ --------------- 3.5/5.6 MB 238.4 kB/s eta 0:00:09\n",
      "   ------------------------- -------------- 3.5/5.6 MB 239.1 kB/s eta 0:00:09\n",
      "   ------------------------- -------------- 3.5/5.6 MB 239.1 kB/s eta 0:00:09\n",
      "   ------------------------- -------------- 3.5/5.6 MB 238.6 kB/s eta 0:00:09\n",
      "   ------------------------- -------------- 3.5/5.6 MB 238.6 kB/s eta 0:00:09\n",
      "   ------------------------- -------------- 3.6/5.6 MB 240.8 kB/s eta 0:00:09\n",
      "   ------------------------- -------------- 3.6/5.6 MB 240.8 kB/s eta 0:00:09\n",
      "   ------------------------- -------------- 3.6/5.6 MB 240.8 kB/s eta 0:00:09\n",
      "   -------------------------- ------------- 3.7/5.6 MB 243.7 kB/s eta 0:00:08\n",
      "   -------------------------- ------------- 3.7/5.6 MB 243.7 kB/s eta 0:00:08\n",
      "   -------------------------- ------------- 3.7/5.6 MB 244.1 kB/s eta 0:00:08\n",
      "   -------------------------- ------------- 3.7/5.6 MB 245.5 kB/s eta 0:00:08\n",
      "   -------------------------- ------------- 3.7/5.6 MB 245.5 kB/s eta 0:00:08\n",
      "   -------------------------- ------------- 3.7/5.6 MB 245.5 kB/s eta 0:00:08\n",
      "   -------------------------- ------------- 3.7/5.6 MB 245.5 kB/s eta 0:00:08\n",
      "   -------------------------- ------------- 3.8/5.6 MB 246.6 kB/s eta 0:00:08\n",
      "   --------------------------- ------------ 3.8/5.6 MB 247.2 kB/s eta 0:00:08\n",
      "   --------------------------- ------------ 3.8/5.6 MB 247.2 kB/s eta 0:00:08\n",
      "   --------------------------- ------------ 3.9/5.6 MB 249.4 kB/s eta 0:00:08\n",
      "   --------------------------- ------------ 3.9/5.6 MB 251.1 kB/s eta 0:00:07\n",
      "   --------------------------- ------------ 3.9/5.6 MB 251.1 kB/s eta 0:00:07\n",
      "   --------------------------- ------------ 3.9/5.6 MB 251.1 kB/s eta 0:00:07\n",
      "   --------------------------- ------------ 3.9/5.6 MB 251.1 kB/s eta 0:00:07\n",
      "   --------------------------- ------------ 3.9/5.6 MB 251.1 kB/s eta 0:00:07\n",
      "   --------------------------- ------------ 3.9/5.6 MB 251.1 kB/s eta 0:00:07\n",
      "   --------------------------- ------------ 3.9/5.6 MB 251.1 kB/s eta 0:00:07\n",
      "   --------------------------- ------------ 3.9/5.6 MB 251.1 kB/s eta 0:00:07\n",
      "   --------------------------- ------------ 3.9/5.6 MB 251.1 kB/s eta 0:00:07\n",
      "   --------------------------- ------------ 3.9/5.6 MB 251.1 kB/s eta 0:00:07\n",
      "   --------------------------- ------------ 3.9/5.6 MB 251.1 kB/s eta 0:00:07\n",
      "   --------------------------- ------------ 3.9/5.6 MB 251.1 kB/s eta 0:00:07\n",
      "   ---------------------------- ----------- 4.0/5.6 MB 247.6 kB/s eta 0:00:07\n",
      "   ---------------------------- ----------- 4.0/5.6 MB 247.6 kB/s eta 0:00:07\n",
      "   ---------------------------- ----------- 4.0/5.6 MB 247.6 kB/s eta 0:00:07\n",
      "   ---------------------------- ----------- 4.0/5.6 MB 246.1 kB/s eta 0:00:07\n",
      "   ---------------------------- ----------- 4.0/5.6 MB 246.1 kB/s eta 0:00:07\n",
      "   ---------------------------- ----------- 4.0/5.6 MB 246.1 kB/s eta 0:00:07\n",
      "   ---------------------------- ----------- 4.0/5.6 MB 245.2 kB/s eta 0:00:07\n",
      "   ---------------------------- ----------- 4.0/5.6 MB 246.9 kB/s eta 0:00:07\n",
      "   ---------------------------- ----------- 4.0/5.6 MB 246.9 kB/s eta 0:00:07\n",
      "   ---------------------------- ----------- 4.0/5.6 MB 246.9 kB/s eta 0:00:07\n",
      "   ---------------------------- ----------- 4.0/5.6 MB 246.9 kB/s eta 0:00:07\n",
      "   ---------------------------- ----------- 4.0/5.6 MB 246.9 kB/s eta 0:00:07\n",
      "   ---------------------------- ----------- 4.0/5.6 MB 246.9 kB/s eta 0:00:07\n",
      "   ---------------------------- ----------- 4.0/5.6 MB 246.9 kB/s eta 0:00:07\n",
      "   ----------------------------- ---------- 4.1/5.6 MB 245.3 kB/s eta 0:00:07\n",
      "   ----------------------------- ---------- 4.1/5.6 MB 245.8 kB/s eta 0:00:07\n",
      "   ----------------------------- ---------- 4.1/5.6 MB 245.5 kB/s eta 0:00:07\n",
      "   ----------------------------- ---------- 4.2/5.6 MB 248.1 kB/s eta 0:00:06\n",
      "   ----------------------------- ---------- 4.2/5.6 MB 248.1 kB/s eta 0:00:06\n",
      "   ----------------------------- ---------- 4.2/5.6 MB 248.1 kB/s eta 0:00:06\n",
      "   ----------------------------- ---------- 4.2/5.6 MB 248.1 kB/s eta 0:00:06\n",
      "   ----------------------------- ---------- 4.2/5.6 MB 248.1 kB/s eta 0:00:06\n",
      "   ----------------------------- ---------- 4.2/5.6 MB 248.1 kB/s eta 0:00:06\n",
      "   ----------------------------- ---------- 4.2/5.6 MB 248.1 kB/s eta 0:00:06\n",
      "   ----------------------------- ---------- 4.2/5.6 MB 248.1 kB/s eta 0:00:06\n",
      "   ----------------------------- ---------- 4.2/5.6 MB 248.1 kB/s eta 0:00:06\n",
      "   ----------------------------- ---------- 4.2/5.6 MB 248.1 kB/s eta 0:00:06\n",
      "   ----------------------------- ---------- 4.2/5.6 MB 248.1 kB/s eta 0:00:06\n",
      "   ----------------------------- ---------- 4.2/5.6 MB 242.3 kB/s eta 0:00:06\n",
      "   ------------------------------ --------- 4.2/5.6 MB 243.0 kB/s eta 0:00:06\n",
      "   ------------------------------ --------- 4.2/5.6 MB 243.2 kB/s eta 0:00:06\n",
      "   ------------------------------ --------- 4.2/5.6 MB 243.2 kB/s eta 0:00:06\n",
      "   ------------------------------ --------- 4.2/5.6 MB 243.2 kB/s eta 0:00:06\n",
      "   ------------------------------ --------- 4.3/5.6 MB 243.7 kB/s eta 0:00:06\n",
      "   ------------------------------ --------- 4.3/5.6 MB 243.7 kB/s eta 0:00:06\n",
      "   ------------------------------ --------- 4.3/5.6 MB 243.7 kB/s eta 0:00:06\n",
      "   ------------------------------ --------- 4.3/5.6 MB 243.2 kB/s eta 0:00:06\n",
      "   ------------------------------ --------- 4.3/5.6 MB 243.2 kB/s eta 0:00:06\n",
      "   ------------------------------ --------- 4.3/5.6 MB 243.2 kB/s eta 0:00:06\n",
      "   ------------------------------- -------- 4.4/5.6 MB 245.6 kB/s eta 0:00:05\n",
      "   ------------------------------- -------- 4.4/5.6 MB 245.6 kB/s eta 0:00:05\n",
      "   ------------------------------- -------- 4.4/5.6 MB 245.6 kB/s eta 0:00:05\n",
      "   ------------------------------- -------- 4.5/5.6 MB 246.9 kB/s eta 0:00:05\n",
      "   ------------------------------- -------- 4.5/5.6 MB 246.9 kB/s eta 0:00:05\n",
      "   ------------------------------- -------- 4.5/5.6 MB 246.9 kB/s eta 0:00:05\n",
      "   ------------------------------- -------- 4.5/5.6 MB 246.3 kB/s eta 0:00:05\n",
      "   -------------------------------- ------- 4.5/5.6 MB 247.0 kB/s eta 0:00:05\n",
      "   -------------------------------- ------- 4.5/5.6 MB 247.0 kB/s eta 0:00:05\n",
      "   -------------------------------- ------- 4.5/5.6 MB 247.0 kB/s eta 0:00:05\n",
      "   -------------------------------- ------- 4.5/5.6 MB 246.5 kB/s eta 0:00:05\n",
      "   -------------------------------- ------- 4.5/5.6 MB 246.5 kB/s eta 0:00:05\n",
      "   -------------------------------- ------- 4.5/5.6 MB 246.9 kB/s eta 0:00:05\n",
      "   -------------------------------- ------- 4.6/5.6 MB 247.5 kB/s eta 0:00:05\n",
      "   -------------------------------- ------- 4.6/5.6 MB 247.5 kB/s eta 0:00:05\n",
      "   -------------------------------- ------- 4.6/5.6 MB 247.5 kB/s eta 0:00:05\n",
      "   -------------------------------- ------- 4.6/5.6 MB 247.5 kB/s eta 0:00:05\n",
      "   -------------------------------- ------- 4.6/5.6 MB 247.5 kB/s eta 0:00:05\n",
      "   -------------------------------- ------- 4.6/5.6 MB 247.5 kB/s eta 0:00:05\n",
      "   -------------------------------- ------- 4.6/5.6 MB 247.5 kB/s eta 0:00:05\n",
      "   --------------------------------- ------ 4.7/5.6 MB 247.9 kB/s eta 0:00:04\n",
      "   --------------------------------- ------ 4.7/5.6 MB 247.9 kB/s eta 0:00:04\n",
      "   --------------------------------- ------ 4.7/5.6 MB 247.9 kB/s eta 0:00:04\n",
      "   --------------------------------- ------ 4.7/5.6 MB 247.9 kB/s eta 0:00:04\n",
      "   --------------------------------- ------ 4.7/5.6 MB 247.9 kB/s eta 0:00:04\n",
      "   --------------------------------- ------ 4.7/5.6 MB 247.9 kB/s eta 0:00:04\n",
      "   --------------------------------- ------ 4.7/5.6 MB 245.4 kB/s eta 0:00:04\n",
      "   --------------------------------- ------ 4.7/5.6 MB 248.2 kB/s eta 0:00:04\n",
      "   --------------------------------- ------ 4.8/5.6 MB 247.9 kB/s eta 0:00:04\n",
      "   ---------------------------------- ----- 4.8/5.6 MB 249.8 kB/s eta 0:00:04\n",
      "   ---------------------------------- ----- 4.8/5.6 MB 250.6 kB/s eta 0:00:04\n",
      "   ---------------------------------- ----- 4.8/5.6 MB 250.6 kB/s eta 0:00:04\n",
      "   ---------------------------------- ----- 4.8/5.6 MB 250.6 kB/s eta 0:00:04\n",
      "   ---------------------------------- ----- 4.8/5.6 MB 250.6 kB/s eta 0:00:04\n",
      "   ---------------------------------- ----- 4.8/5.6 MB 250.6 kB/s eta 0:00:04\n",
      "   ---------------------------------- ----- 4.8/5.6 MB 250.6 kB/s eta 0:00:04\n",
      "   ---------------------------------- ----- 4.9/5.6 MB 250.0 kB/s eta 0:00:03\n",
      "   ---------------------------------- ----- 4.9/5.6 MB 250.0 kB/s eta 0:00:03\n",
      "   ---------------------------------- ----- 4.9/5.6 MB 250.0 kB/s eta 0:00:03\n",
      "   ----------------------------------- ---- 4.9/5.6 MB 251.1 kB/s eta 0:00:03\n",
      "   ----------------------------------- ---- 5.0/5.6 MB 251.4 kB/s eta 0:00:03\n",
      "   ----------------------------------- ---- 5.0/5.6 MB 251.4 kB/s eta 0:00:03\n",
      "   ------------------------------------ --- 5.1/5.6 MB 255.0 kB/s eta 0:00:03\n",
      "   ------------------------------------ --- 5.1/5.6 MB 255.0 kB/s eta 0:00:03\n",
      "   ------------------------------------ --- 5.1/5.6 MB 255.0 kB/s eta 0:00:03\n",
      "   ------------------------------------ --- 5.1/5.6 MB 255.0 kB/s eta 0:00:03\n",
      "   ------------------------------------ --- 5.1/5.6 MB 255.0 kB/s eta 0:00:03\n",
      "   ------------------------------------ --- 5.1/5.6 MB 255.0 kB/s eta 0:00:03\n",
      "   ------------------------------------ --- 5.1/5.6 MB 252.5 kB/s eta 0:00:03\n",
      "   ------------------------------------ --- 5.1/5.6 MB 254.3 kB/s eta 0:00:02\n",
      "   ------------------------------------ --- 5.1/5.6 MB 254.3 kB/s eta 0:00:02\n",
      "   ------------------------------------ --- 5.1/5.6 MB 254.3 kB/s eta 0:00:02\n",
      "   ------------------------------------ --- 5.1/5.6 MB 254.3 kB/s eta 0:00:02\n",
      "   ------------------------------------ --- 5.1/5.6 MB 254.3 kB/s eta 0:00:02\n",
      "   ------------------------------------ --- 5.1/5.6 MB 254.3 kB/s eta 0:00:02\n",
      "   ------------------------------------ --- 5.1/5.6 MB 254.3 kB/s eta 0:00:02\n",
      "   ------------------------------------ --- 5.1/5.6 MB 254.3 kB/s eta 0:00:02\n",
      "   ------------------------------------ --- 5.1/5.6 MB 254.3 kB/s eta 0:00:02\n",
      "   ------------------------------------ --- 5.1/5.6 MB 254.3 kB/s eta 0:00:02\n",
      "   ------------------------------------ --- 5.2/5.6 MB 252.2 kB/s eta 0:00:02\n",
      "   ------------------------------------ --- 5.2/5.6 MB 252.2 kB/s eta 0:00:02\n",
      "   ------------------------------------- -- 5.2/5.6 MB 252.9 kB/s eta 0:00:02\n",
      "   ------------------------------------- -- 5.3/5.6 MB 253.2 kB/s eta 0:00:02\n",
      "   ------------------------------------- -- 5.3/5.6 MB 253.2 kB/s eta 0:00:02\n",
      "   ------------------------------------- -- 5.3/5.6 MB 253.2 kB/s eta 0:00:02\n",
      "   -------------------------------------- - 5.3/5.6 MB 255.3 kB/s eta 0:00:02\n",
      "   -------------------------------------- - 5.3/5.6 MB 255.3 kB/s eta 0:00:02\n",
      "   -------------------------------------- - 5.3/5.6 MB 255.3 kB/s eta 0:00:02\n",
      "   -------------------------------------- - 5.4/5.6 MB 257.5 kB/s eta 0:00:01\n",
      "   -------------------------------------- - 5.4/5.6 MB 258.1 kB/s eta 0:00:01\n",
      "   -------------------------------------- - 5.4/5.6 MB 258.1 kB/s eta 0:00:01\n",
      "   ---------------------------------------  5.5/5.6 MB 259.6 kB/s eta 0:00:01\n",
      "   ---------------------------------------  5.5/5.6 MB 260.4 kB/s eta 0:00:01\n",
      "   ---------------------------------------  5.5/5.6 MB 260.4 kB/s eta 0:00:01\n",
      "   ---------------------------------------  5.5/5.6 MB 259.4 kB/s eta 0:00:01\n",
      "   ---------------------------------------- 5.6/5.6 MB 262.6 kB/s eta 0:00:00\n",
      "Downloading cryptography-42.0.5-cp39-abi3-win_amd64.whl (2.9 MB)\n",
      "   ---------------------------------------- 0.0/2.9 MB ? eta -:--:--\n",
      "   - -------------------------------------- 0.1/2.9 MB 5.5 MB/s eta 0:00:01\n",
      "   - -------------------------------------- 0.1/2.9 MB 5.5 MB/s eta 0:00:01\n",
      "   - -------------------------------------- 0.1/2.9 MB 804.6 kB/s eta 0:00:04\n",
      "   -- ------------------------------------- 0.2/2.9 MB 1.1 MB/s eta 0:00:03\n",
      "   -- ------------------------------------- 0.2/2.9 MB 1.1 MB/s eta 0:00:03\n",
      "   -- ------------------------------------- 0.2/2.9 MB 1.1 MB/s eta 0:00:03\n",
      "   --- ------------------------------------ 0.3/2.9 MB 842.9 kB/s eta 0:00:04\n",
      "   --- ------------------------------------ 0.3/2.9 MB 842.9 kB/s eta 0:00:04\n",
      "   ---- ----------------------------------- 0.3/2.9 MB 731.4 kB/s eta 0:00:04\n",
      "   ----- ---------------------------------- 0.4/2.9 MB 764.2 kB/s eta 0:00:04\n",
      "   ----- ---------------------------------- 0.4/2.9 MB 764.2 kB/s eta 0:00:04\n",
      "   ----- ---------------------------------- 0.4/2.9 MB 764.2 kB/s eta 0:00:04\n",
      "   ----- ---------------------------------- 0.4/2.9 MB 764.2 kB/s eta 0:00:04\n",
      "   ----- ---------------------------------- 0.4/2.9 MB 764.2 kB/s eta 0:00:04\n",
      "   ----- ---------------------------------- 0.4/2.9 MB 764.2 kB/s eta 0:00:04\n",
      "   ----- ---------------------------------- 0.4/2.9 MB 764.2 kB/s eta 0:00:04\n",
      "   ----- ---------------------------------- 0.4/2.9 MB 764.2 kB/s eta 0:00:04\n",
      "   ----- ---------------------------------- 0.4/2.9 MB 764.2 kB/s eta 0:00:04\n",
      "   ----- ---------------------------------- 0.4/2.9 MB 764.2 kB/s eta 0:00:04\n",
      "   ----- ---------------------------------- 0.4/2.9 MB 764.2 kB/s eta 0:00:04\n",
      "   ----- ---------------------------------- 0.4/2.9 MB 764.2 kB/s eta 0:00:04\n",
      "   ----- ---------------------------------- 0.4/2.9 MB 764.2 kB/s eta 0:00:04\n",
      "   ----- ---------------------------------- 0.4/2.9 MB 764.2 kB/s eta 0:00:04\n",
      "   ----- ---------------------------------- 0.4/2.9 MB 764.2 kB/s eta 0:00:04\n",
      "   ----- ---------------------------------- 0.4/2.9 MB 764.2 kB/s eta 0:00:04\n",
      "   ----- ---------------------------------- 0.4/2.9 MB 764.2 kB/s eta 0:00:04\n",
      "   ----- ---------------------------------- 0.4/2.9 MB 764.2 kB/s eta 0:00:04\n",
      "   ----- ---------------------------------- 0.4/2.9 MB 764.2 kB/s eta 0:00:04\n",
      "   ----- ---------------------------------- 0.4/2.9 MB 764.2 kB/s eta 0:00:04\n",
      "   ----- ---------------------------------- 0.4/2.9 MB 764.2 kB/s eta 0:00:04\n",
      "   ----- ---------------------------------- 0.4/2.9 MB 764.2 kB/s eta 0:00:04\n",
      "   ----- ---------------------------------- 0.4/2.9 MB 764.2 kB/s eta 0:00:04\n",
      "   ----- ---------------------------------- 0.4/2.9 MB 764.2 kB/s eta 0:00:04\n",
      "   ----- ---------------------------------- 0.4/2.9 MB 764.2 kB/s eta 0:00:04\n",
      "   ----- ---------------------------------- 0.4/2.9 MB 764.2 kB/s eta 0:00:04\n",
      "   ----- ---------------------------------- 0.4/2.9 MB 764.2 kB/s eta 0:00:04\n",
      "   ----- ---------------------------------- 0.4/2.9 MB 764.2 kB/s eta 0:00:04\n",
      "   ----- ---------------------------------- 0.4/2.9 MB 764.2 kB/s eta 0:00:04\n",
      "   ----- ---------------------------------- 0.4/2.9 MB 764.2 kB/s eta 0:00:04\n",
      "   ----- ---------------------------------- 0.4/2.9 MB 764.2 kB/s eta 0:00:04\n",
      "   ----- ---------------------------------- 0.4/2.9 MB 764.2 kB/s eta 0:00:04\n",
      "   ----- ---------------------------------- 0.4/2.9 MB 764.2 kB/s eta 0:00:04\n",
      "   ----- ---------------------------------- 0.4/2.9 MB 764.2 kB/s eta 0:00:04\n",
      "   ----- ---------------------------------- 0.4/2.9 MB 764.2 kB/s eta 0:00:04\n",
      "   ----- ---------------------------------- 0.4/2.9 MB 764.2 kB/s eta 0:00:04\n",
      "   ----- ---------------------------------- 0.4/2.9 MB 764.2 kB/s eta 0:00:04\n",
      "   ----- ---------------------------------- 0.4/2.9 MB 764.2 kB/s eta 0:00:04\n",
      "   ----- ---------------------------------- 0.4/2.9 MB 764.2 kB/s eta 0:00:04\n",
      "   ----- ---------------------------------- 0.4/2.9 MB 764.2 kB/s eta 0:00:04\n",
      "   ----- ---------------------------------- 0.4/2.9 MB 764.2 kB/s eta 0:00:04\n",
      "   ----- ---------------------------------- 0.4/2.9 MB 764.2 kB/s eta 0:00:04\n",
      "   ----- ---------------------------------- 0.4/2.9 MB 764.2 kB/s eta 0:00:04\n",
      "   ----- ---------------------------------- 0.4/2.9 MB 764.2 kB/s eta 0:00:04\n",
      "   ----- ---------------------------------- 0.4/2.9 MB 764.2 kB/s eta 0:00:04\n",
      "   ----- ---------------------------------- 0.4/2.9 MB 764.2 kB/s eta 0:00:04\n",
      "   ----- ---------------------------------- 0.4/2.9 MB 764.2 kB/s eta 0:00:04\n",
      "   ----- ---------------------------------- 0.4/2.9 MB 764.2 kB/s eta 0:00:04\n",
      "   ----- ---------------------------------- 0.4/2.9 MB 764.2 kB/s eta 0:00:04\n",
      "   ----- ---------------------------------- 0.4/2.9 MB 764.2 kB/s eta 0:00:04\n",
      "   ----- ---------------------------------- 0.4/2.9 MB 764.2 kB/s eta 0:00:04\n",
      "   ----- ---------------------------------- 0.4/2.9 MB 764.2 kB/s eta 0:00:04\n",
      "   ----- ---------------------------------- 0.4/2.9 MB 764.2 kB/s eta 0:00:04\n",
      "   ----- ---------------------------------- 0.4/2.9 MB 764.2 kB/s eta 0:00:04\n",
      "   ------ --------------------------------- 0.5/2.9 MB 157.0 kB/s eta 0:00:16\n",
      "   ----------- ---------------------------- 0.9/2.9 MB 278.9 kB/s eta 0:00:08\n",
      "   ----------- ---------------------------- 0.9/2.9 MB 278.9 kB/s eta 0:00:08\n",
      "   ------------ --------------------------- 0.9/2.9 MB 282.3 kB/s eta 0:00:08\n",
      "   ------------ --------------------------- 0.9/2.9 MB 282.3 kB/s eta 0:00:08\n",
      "   ------------ --------------------------- 0.9/2.9 MB 282.3 kB/s eta 0:00:08\n",
      "   ------------ --------------------------- 0.9/2.9 MB 278.3 kB/s eta 0:00:08\n",
      "   ------------ --------------------------- 0.9/2.9 MB 278.3 kB/s eta 0:00:08\n",
      "   ------------ --------------------------- 0.9/2.9 MB 278.3 kB/s eta 0:00:08\n",
      "   ------------ --------------------------- 0.9/2.9 MB 278.3 kB/s eta 0:00:08\n",
      "   ------------ --------------------------- 0.9/2.9 MB 278.3 kB/s eta 0:00:08\n",
      "   ------------ --------------------------- 0.9/2.9 MB 278.3 kB/s eta 0:00:08\n",
      "   ------------- -------------------------- 1.0/2.9 MB 272.4 kB/s eta 0:00:07\n",
      "   ------------- -------------------------- 1.0/2.9 MB 272.4 kB/s eta 0:00:07\n",
      "   ------------- -------------------------- 1.0/2.9 MB 272.4 kB/s eta 0:00:07\n",
      "   -------------- ------------------------- 1.0/2.9 MB 275.8 kB/s eta 0:00:07\n",
      "   -------------- ------------------------- 1.0/2.9 MB 275.8 kB/s eta 0:00:07\n",
      "   -------------- ------------------------- 1.0/2.9 MB 275.8 kB/s eta 0:00:07\n",
      "   --------------- ------------------------ 1.1/2.9 MB 280.5 kB/s eta 0:00:07\n",
      "   --------------- ------------------------ 1.1/2.9 MB 286.1 kB/s eta 0:00:07\n",
      "   --------------- ------------------------ 1.1/2.9 MB 286.1 kB/s eta 0:00:07\n",
      "   --------------- ------------------------ 1.1/2.9 MB 286.1 kB/s eta 0:00:07\n",
      "   ---------------- ----------------------- 1.2/2.9 MB 292.4 kB/s eta 0:00:06\n",
      "   ---------------- ----------------------- 1.2/2.9 MB 292.4 kB/s eta 0:00:06\n",
      "   ---------------- ----------------------- 1.2/2.9 MB 292.4 kB/s eta 0:00:06\n",
      "   ----------------- ---------------------- 1.3/2.9 MB 304.7 kB/s eta 0:00:06\n",
      "   ----------------- ---------------------- 1.3/2.9 MB 304.7 kB/s eta 0:00:06\n",
      "   ----------------- ---------------------- 1.3/2.9 MB 304.7 kB/s eta 0:00:06\n",
      "   ------------------ --------------------- 1.3/2.9 MB 303.0 kB/s eta 0:00:06\n",
      "   ------------------ --------------------- 1.4/2.9 MB 306.8 kB/s eta 0:00:05\n",
      "   ------------------ --------------------- 1.4/2.9 MB 306.8 kB/s eta 0:00:05\n",
      "   ------------------- -------------------- 1.4/2.9 MB 317.5 kB/s eta 0:00:05\n",
      "   -------------------- ------------------- 1.5/2.9 MB 323.2 kB/s eta 0:00:05\n",
      "   -------------------- ------------------- 1.5/2.9 MB 323.2 kB/s eta 0:00:05\n",
      "   -------------------- ------------------- 1.5/2.9 MB 323.2 kB/s eta 0:00:05\n",
      "   -------------------- ------------------- 1.5/2.9 MB 323.2 kB/s eta 0:00:05\n",
      "   -------------------- ------------------- 1.5/2.9 MB 323.2 kB/s eta 0:00:05\n",
      "   --------------------- ------------------ 1.6/2.9 MB 324.5 kB/s eta 0:00:05\n",
      "   --------------------- ------------------ 1.6/2.9 MB 324.5 kB/s eta 0:00:05\n",
      "   --------------------- ------------------ 1.6/2.9 MB 324.5 kB/s eta 0:00:05\n",
      "   --------------------- ------------------ 1.6/2.9 MB 324.5 kB/s eta 0:00:05\n",
      "   --------------------- ------------------ 1.6/2.9 MB 324.5 kB/s eta 0:00:05\n",
      "   --------------------- ------------------ 1.6/2.9 MB 324.5 kB/s eta 0:00:05\n",
      "   --------------------- ------------------ 1.6/2.9 MB 324.5 kB/s eta 0:00:05\n",
      "   --------------------- ------------------ 1.6/2.9 MB 324.5 kB/s eta 0:00:05\n",
      "   --------------------- ------------------ 1.6/2.9 MB 324.5 kB/s eta 0:00:05\n",
      "   --------------------- ------------------ 1.6/2.9 MB 324.5 kB/s eta 0:00:05\n",
      "   --------------------- ------------------ 1.6/2.9 MB 324.5 kB/s eta 0:00:05\n",
      "   --------------------- ------------------ 1.6/2.9 MB 324.5 kB/s eta 0:00:05\n",
      "   --------------------- ------------------ 1.6/2.9 MB 324.5 kB/s eta 0:00:05\n",
      "   --------------------- ------------------ 1.6/2.9 MB 324.5 kB/s eta 0:00:05\n",
      "   --------------------- ------------------ 1.6/2.9 MB 324.5 kB/s eta 0:00:05\n",
      "   --------------------- ------------------ 1.6/2.9 MB 324.5 kB/s eta 0:00:05\n",
      "   --------------------- ------------------ 1.6/2.9 MB 324.5 kB/s eta 0:00:05\n",
      "   --------------------- ------------------ 1.6/2.9 MB 324.5 kB/s eta 0:00:05\n",
      "   --------------------- ------------------ 1.6/2.9 MB 324.5 kB/s eta 0:00:05\n",
      "   --------------------- ------------------ 1.6/2.9 MB 324.5 kB/s eta 0:00:05\n",
      "   --------------------- ------------------ 1.6/2.9 MB 324.5 kB/s eta 0:00:05\n",
      "   --------------------------- ------------ 2.0/2.9 MB 337.3 kB/s eta 0:00:03\n",
      "   --------------------------- ------------ 2.0/2.9 MB 339.1 kB/s eta 0:00:03\n",
      "   --------------------------- ------------ 2.0/2.9 MB 339.1 kB/s eta 0:00:03\n",
      "   --------------------------- ------------ 2.0/2.9 MB 339.1 kB/s eta 0:00:03\n",
      "   ----------------------------- ---------- 2.1/2.9 MB 348.1 kB/s eta 0:00:03\n",
      "   ----------------------------- ---------- 2.1/2.9 MB 348.1 kB/s eta 0:00:03\n",
      "   ----------------------------- ---------- 2.1/2.9 MB 348.1 kB/s eta 0:00:03\n",
      "   ----------------------------- ---------- 2.1/2.9 MB 348.1 kB/s eta 0:00:03\n",
      "   ----------------------------- ---------- 2.1/2.9 MB 348.1 kB/s eta 0:00:03\n",
      "   ----------------------------- ---------- 2.1/2.9 MB 348.1 kB/s eta 0:00:03\n",
      "   ----------------------------- ---------- 2.1/2.9 MB 348.1 kB/s eta 0:00:03\n",
      "   ----------------------------- ---------- 2.1/2.9 MB 348.1 kB/s eta 0:00:03\n",
      "   ----------------------------- ---------- 2.1/2.9 MB 348.1 kB/s eta 0:00:03\n",
      "   ------------------------------ --------- 2.2/2.9 MB 334.0 kB/s eta 0:00:03\n",
      "   ------------------------------ --------- 2.2/2.9 MB 334.0 kB/s eta 0:00:03\n",
      "   ------------------------------ --------- 2.2/2.9 MB 334.0 kB/s eta 0:00:03\n",
      "   ------------------------------- -------- 2.3/2.9 MB 340.8 kB/s eta 0:00:02\n",
      "   ------------------------------- -------- 2.3/2.9 MB 340.8 kB/s eta 0:00:02\n",
      "   ------------------------------- -------- 2.3/2.9 MB 340.8 kB/s eta 0:00:02\n",
      "   --------------------------------- ------ 2.4/2.9 MB 351.2 kB/s eta 0:00:02\n",
      "   --------------------------------- ------ 2.4/2.9 MB 351.2 kB/s eta 0:00:02\n",
      "   --------------------------------- ------ 2.4/2.9 MB 351.2 kB/s eta 0:00:02\n",
      "   --------------------------------- ------ 2.4/2.9 MB 351.2 kB/s eta 0:00:02\n",
      "   --------------------------------- ------ 2.4/2.9 MB 351.2 kB/s eta 0:00:02\n",
      "   --------------------------------- ------ 2.4/2.9 MB 351.2 kB/s eta 0:00:02\n",
      "   --------------------------------- ------ 2.4/2.9 MB 351.2 kB/s eta 0:00:02\n",
      "   --------------------------------- ------ 2.4/2.9 MB 351.2 kB/s eta 0:00:02\n",
      "   ---------------------------------- ----- 2.5/2.9 MB 340.4 kB/s eta 0:00:02\n",
      "   ---------------------------------- ----- 2.5/2.9 MB 344.0 kB/s eta 0:00:02\n",
      "   ---------------------------------- ----- 2.5/2.9 MB 344.0 kB/s eta 0:00:02\n",
      "   ------------------------------------ --- 2.6/2.9 MB 355.4 kB/s eta 0:00:01\n",
      "   ------------------------------------ --- 2.6/2.9 MB 355.4 kB/s eta 0:00:01\n",
      "   ------------------------------------ --- 2.6/2.9 MB 355.4 kB/s eta 0:00:01\n",
      "   ------------------------------------ --- 2.6/2.9 MB 355.4 kB/s eta 0:00:01\n",
      "   ------------------------------------ --- 2.6/2.9 MB 355.4 kB/s eta 0:00:01\n",
      "   ------------------------------------ --- 2.6/2.9 MB 355.4 kB/s eta 0:00:01\n",
      "   ------------------------------------ --- 2.6/2.9 MB 355.4 kB/s eta 0:00:01\n",
      "   ------------------------------------ --- 2.6/2.9 MB 355.4 kB/s eta 0:00:01\n",
      "   ------------------------------------ --- 2.6/2.9 MB 355.4 kB/s eta 0:00:01\n",
      "   ------------------------------------ --- 2.6/2.9 MB 355.4 kB/s eta 0:00:01\n",
      "   ------------------------------------ --- 2.6/2.9 MB 355.4 kB/s eta 0:00:01\n",
      "   ------------------------------------ --- 2.6/2.9 MB 355.4 kB/s eta 0:00:01\n",
      "   ------------------------------------- -- 2.7/2.9 MB 337.3 kB/s eta 0:00:01\n",
      "   ------------------------------------- -- 2.7/2.9 MB 337.3 kB/s eta 0:00:01\n",
      "   ------------------------------------- -- 2.7/2.9 MB 337.3 kB/s eta 0:00:01\n",
      "   -------------------------------------- - 2.8/2.9 MB 340.3 kB/s eta 0:00:01\n",
      "   -------------------------------------- - 2.8/2.9 MB 342.2 kB/s eta 0:00:01\n",
      "   -------------------------------------- - 2.8/2.9 MB 342.2 kB/s eta 0:00:01\n",
      "   -------------------------------------- - 2.8/2.9 MB 342.2 kB/s eta 0:00:01\n",
      "   -------------------------------------- - 2.8/2.9 MB 342.2 kB/s eta 0:00:01\n",
      "   -------------------------------------- - 2.8/2.9 MB 342.2 kB/s eta 0:00:01\n",
      "   -------------------------------------- - 2.8/2.9 MB 342.2 kB/s eta 0:00:01\n",
      "   -------------------------------------- - 2.8/2.9 MB 342.2 kB/s eta 0:00:01\n",
      "   -------------------------------------- - 2.8/2.9 MB 342.2 kB/s eta 0:00:01\n",
      "   -------------------------------------- - 2.8/2.9 MB 342.2 kB/s eta 0:00:01\n",
      "   -------------------------------------- - 2.8/2.9 MB 342.2 kB/s eta 0:00:01\n",
      "   -------------------------------------- - 2.8/2.9 MB 342.2 kB/s eta 0:00:01\n",
      "   -------------------------------------- - 2.8/2.9 MB 342.2 kB/s eta 0:00:01\n",
      "   ---------------------------------------  2.9/2.9 MB 330.0 kB/s eta 0:00:01\n",
      "   ---------------------------------------- 2.9/2.9 MB 329.2 kB/s eta 0:00:00\n",
      "Downloading cffi-1.16.0-cp311-cp311-win_amd64.whl (181 kB)\n",
      "   ---------------------------------------- 0.0/181.5 kB ? eta -:--:--\n",
      "   ------ --------------------------------- 30.7/181.5 kB 1.3 MB/s eta 0:00:01\n",
      "   ------ --------------------------------- 30.7/181.5 kB 1.3 MB/s eta 0:00:01\n",
      "   ------ --------------------------------- 30.7/181.5 kB 1.3 MB/s eta 0:00:01\n",
      "   ------ --------------------------------- 30.7/181.5 kB 1.3 MB/s eta 0:00:01\n",
      "   ------ --------------------------------- 30.7/181.5 kB 1.3 MB/s eta 0:00:01\n",
      "   ------ --------------------------------- 30.7/181.5 kB 1.3 MB/s eta 0:00:01\n",
      "   ------------------- ------------------- 92.2/181.5 kB 261.7 kB/s eta 0:00:01\n",
      "   -------------------------------- ----- 153.6/181.5 kB 435.7 kB/s eta 0:00:01\n",
      "   -------------------------------- ----- 153.6/181.5 kB 435.7 kB/s eta 0:00:01\n",
      "   -------------------------------- ----- 153.6/181.5 kB 435.7 kB/s eta 0:00:01\n",
      "   -------------------------------- ----- 153.6/181.5 kB 435.7 kB/s eta 0:00:01\n",
      "   -------------------------------- ----- 153.6/181.5 kB 435.7 kB/s eta 0:00:01\n",
      "   ------------------------------------ - 174.1/181.5 kB 268.6 kB/s eta 0:00:01\n",
      "   -------------------------------------- 181.5/181.5 kB 274.0 kB/s eta 0:00:00\n",
      "Downloading pycparser-2.22-py3-none-any.whl (117 kB)\n",
      "   ---------------------------------------- 0.0/117.6 kB ? eta -:--:--\n",
      "   ------------------------ --------------- 71.7/117.6 kB 4.1 MB/s eta 0:00:01\n",
      "   ------------------------ --------------- 71.7/117.6 kB 4.1 MB/s eta 0:00:01\n",
      "   ------------------------ --------------- 71.7/117.6 kB 4.1 MB/s eta 0:00:01\n",
      "   ------------------------ --------------- 71.7/117.6 kB 4.1 MB/s eta 0:00:01\n",
      "   ------------------------ --------------- 71.7/117.6 kB 4.1 MB/s eta 0:00:01\n",
      "   ------------------------ --------------- 71.7/117.6 kB 4.1 MB/s eta 0:00:01\n",
      "   ------------------------ --------------- 71.7/117.6 kB 4.1 MB/s eta 0:00:01\n",
      "   ------------------------ --------------- 71.7/117.6 kB 4.1 MB/s eta 0:00:01\n",
      "   ------------------------ --------------- 71.7/117.6 kB 4.1 MB/s eta 0:00:01\n",
      "   ------------------------ --------------- 71.7/117.6 kB 4.1 MB/s eta 0:00:01\n",
      "   ------------------------ --------------- 71.7/117.6 kB 4.1 MB/s eta 0:00:01\n",
      "   ------------------------ --------------- 71.7/117.6 kB 4.1 MB/s eta 0:00:01\n",
      "   -------------------------------------- 117.6/117.6 kB 181.0 kB/s eta 0:00:00\n",
      "Installing collected packages: pycparser, cffi, cryptography, pdfminer.six\n",
      "Successfully installed cffi-1.16.0 cryptography-42.0.5 pdfminer.six-20231228 pycparser-2.22\n"
     ]
    }
   ],
   "source": [
    "pip install --upgrade pdfminer.six\n"
   ]
  },
  {
   "cell_type": "code",
   "execution_count": 5,
   "metadata": {},
   "outputs": [],
   "source": [
    "from langchain.document_loaders import PyPDFLoader\n",
    "# loader = UnstructuredPDFLoader('./ngConstitution.pdf')\n"
   ]
  },
  {
   "cell_type": "code",
   "execution_count": 6,
   "metadata": {},
   "outputs": [],
   "source": [
    "loader = PyPDFLoader('./ngConstitution.pdf')\n",
    "\n",
    "data = loader.load()"
   ]
  },
  {
   "cell_type": "code",
   "execution_count": 7,
   "metadata": {},
   "outputs": [
    {
     "name": "stdout",
     "output_type": "stream",
     "text": [
      "Constitution of the Federal Republic of Nigeria \n",
      "1999 \n",
      "  \n",
      "  \n",
      "  \n",
      "We the people of the Federal Republic of Nigeria  \n",
      "  \n",
      "Having firmly and solemnly resolve, to live in unity and harmony as one indivisible and \n",
      "indissoluble sovereign nation under God, dedicated to the pr omotion of inter-African \n",
      "solidarity, world peace, interna tional co-operation and understanding  \n",
      "  \n",
      "And to provide for a Constitution for the pur pose of promoting the good government and \n",
      "welfare of all persons in our c ountry, on the principles of freedom, equality and justice, and \n",
      "for the purpose of consolida ting the unity of our people  \n",
      "  \n",
      "Do hereby make, enact and give to ourselves the following Constitution:-  \n",
      "  \n",
      " \n",
      "Chapter I \n",
      "General Provisions \n",
      "  \n",
      "Part I  \n",
      "  \n",
      "  \n",
      "Federal Republic of Nigeria \n",
      "  \n",
      "1. (1) This Constitution is supreme and its provisions sha ll have binding force on the authorities and persons \n",
      "throughout the Federal Republic of Nigeria. \n",
      " \n",
      "(2) The Federal Republic of Nigeria shall not be governed, nor shall any persons or group of persons take \n",
      "control of the Government of Nigeria or any part thereof, except in accordance with the provisions of this \n",
      "Constitution. \n",
      "(3) If any other law is inconsistent with the provisions of this Constitution, this Constitution shall prevail, \n",
      "and that other law shall, to the extent of the inconsistency, be void. \n",
      " \n",
      "2. (1) Nigeria is one indivisible and indissoluble sovereign state to be known by the name of the Federal \n",
      "Republic of Nigeria.  \n",
      "(2) Nigeria shall be a Federation consisting of States and a Federal Capital Territory. \n",
      " \n",
      "3. (1) There shall be 36 states in Nigeria, that is to  say, Abia, Adamawa, Akwa Ibom, Anambra, Bauchi, \n",
      "Bayelsa, Benue, Borno, Cross River, Delta, Ebonyi,  Edo, Ekiti, Enugu, Gombe, Imo, Jigawa, Kaduna, \n",
      "Kano, Katsina, Kebbi, Kogi, Kwara, Lagos, Nasarawa , Niger, Ogun, Ondo, Osun, Oyo, Plateau, Rivers, \n",
      "Sokoto, Taraba, Yobe and Zamfara. \n",
      "(2) Each state of Nigeria, named in the first column of Part I of the First Schedule to this Constitution, \n",
      "shall consist of the area shown opposite thereto in the second column of that Schedule. \n",
      "(3) The headquarters of the Governor of each State sha ll be known as the Capital City of that State as \n",
      "shown in the third column of the said Part I of the First Schedule opposite the State named in the first \n",
      "column thereof. \n",
      "(4) The Federal Capital Territory, Abuja, shall be as de fined in Part II of the First Scheduled to this \n",
      "Constitution. \n"
     ]
    }
   ],
   "source": [
    "print(data[0].page_content)"
   ]
  },
  {
   "cell_type": "code",
   "execution_count": 10,
   "metadata": {},
   "outputs": [],
   "source": [
    "text_splitter = RecursiveCharacterTextSplitter(chunk_size=10000000, chunk_overlap=100)\n",
    "chunks = text_splitter.split_documents(data)"
   ]
  },
  {
   "cell_type": "code",
   "execution_count": 11,
   "metadata": {},
   "outputs": [
    {
     "data": {
      "text/plain": [
       "118"
      ]
     },
     "execution_count": 11,
     "metadata": {},
     "output_type": "execute_result"
    }
   ],
   "source": [
    "len(chunks)"
   ]
  },
  {
   "cell_type": "code",
   "execution_count": 12,
   "metadata": {},
   "outputs": [
    {
     "name": "stderr",
     "output_type": "stream",
     "text": [
      "C:\\Users\\USER\\AppData\\Local\\Packages\\PythonSoftwareFoundation.Python.3.11_qbz5n2kfra8p0\\LocalCache\\local-packages\\Python311\\site-packages\\langchain_core\\_api\\deprecation.py:117: LangChainDeprecationWarning: The class `langchain_community.chat_models.openai.ChatOpenAI` was deprecated in langchain-community 0.0.10 and will be removed in 0.2.0. An updated version of the class exists in the langchain-openai package and should be used instead. To use it run `pip install -U langchain-openai` and import as `from langchain_openai import ChatOpenAI`.\n",
      "  warn_deprecated(\n"
     ]
    }
   ],
   "source": [
    "llm = ChatOpenAI(temperature=0, model_name='gpt-3.5-turbo')"
   ]
  },
  {
   "cell_type": "code",
   "execution_count": 13,
   "metadata": {},
   "outputs": [
    {
     "name": "stdout",
     "output_type": "stream",
     "text": [
      "Total Tokens: 83946\n",
      "Embedding Cost in USD: 0.167892\n"
     ]
    }
   ],
   "source": [
    "def print_embedding_cost(texts):\n",
    "    import tiktoken\n",
    "    enc = tiktoken.encoding_for_model('gpt-3.5-turbo')\n",
    "    total_tokens = sum([len(enc.encode(page.page_content)) for page in texts])\n",
    "    print(f'Total Tokens: {total_tokens}')\n",
    "    print(f'Embedding Cost in USD: {total_tokens / 1000 * 0.002:.6f}')\n",
    "\n",
    "print_embedding_cost(chunks)"
   ]
  },
  {
   "cell_type": "code",
   "execution_count": 15,
   "metadata": {},
   "outputs": [],
   "source": [
    "chain = load_summarize_chain(\n",
    "    llm=llm,\n",
    "    chain_type='refine',\n",
    "    verbose=False\n",
    ")\n",
    "output_summary = chain.run(chunks)"
   ]
  },
  {
   "cell_type": "code",
   "execution_count": null,
   "metadata": {},
   "outputs": [],
   "source": [
    "print(output_summary)"
   ]
  },
  {
   "cell_type": "markdown",
   "metadata": {},
   "source": [
    "### Refine With Custom Prompts"
   ]
  },
  {
   "cell_type": "code",
   "execution_count": null,
   "metadata": {},
   "outputs": [],
   "source": [
    "prompt_template = ''' \n",
    "Write a concise summary of the following extracting the key information:\n",
    "Text: `{text}`\n",
    "CONCISE SUMMARY:\n",
    "'''\n",
    "initial_prompt = PromptTemplate(template=prompt_template, input_variable=['text'])\n",
    "\n",
    "refine_template = '''\n",
    "    Your job is to produce a final summary.\n",
    "    I have provided an existing summary up to a certain point: {existing_answer}.\n",
    "    Please refine the existing summary with some more context below.\n",
    "    -----------\n",
    "    {text}\n",
    "    -----------\n",
    "    Start the final summary with an INTRODUCTION PARAGRAPH that gives an overview of the topic FOLLOWED by BULLET POINTS if possible AND end the summary with a CONCLUSION PHRASE.\n",
    "'''\n",
    "\n",
    "refine_prompt = PromptTemplate(template=refine_template, input_variable=['existing_answer', 'text'])"
   ]
  },
  {
   "cell_type": "code",
   "execution_count": null,
   "metadata": {},
   "outputs": [],
   "source": [
    "chain = load_summarize_chain(\n",
    "    llm=llm,\n",
    "    chain_type='refine',\n",
    "    question_prompt=initial_prompt,\n",
    "    refine_prompt=refine_prompt,\n",
    "    return_intermediate_steps=False\n",
    ")\n",
    "\n",
    "output_summary = chain.run(chunks)"
   ]
  },
  {
   "cell_type": "code",
   "execution_count": null,
   "metadata": {},
   "outputs": [],
   "source": [
    "print(output_summary)"
   ]
  },
  {
   "cell_type": "markdown",
   "metadata": {},
   "source": [
    "### Summarizing Using LangChain Agents"
   ]
  },
  {
   "cell_type": "code",
   "execution_count": null,
   "metadata": {},
   "outputs": [],
   "source": [
    "from langchain.chat_models import ChatOpenAI\n",
    "from langchain.agents import initialize_agent, Tool\n",
    "from langchain.utilities import WikipediaAPIWrapper"
   ]
  },
  {
   "cell_type": "code",
   "execution_count": null,
   "metadata": {},
   "outputs": [],
   "source": [
    "import os\n",
    "from dotenv import load_dotenv, find_dotenv\n",
    "load_dotenv(find_dotenv(), override=True)"
   ]
  },
  {
   "cell_type": "code",
   "execution_count": null,
   "metadata": {},
   "outputs": [],
   "source": [
    "llm = ChatOpenAI(temperature=0, model_name='gpt-3.5-turbo')\n",
    "wikipedia = WikipediaAPIWrapper()"
   ]
  },
  {
   "cell_type": "code",
   "execution_count": null,
   "metadata": {},
   "outputs": [],
   "source": [
    "tools = [\n",
    "    Tool(\n",
    "        name='Wikipedia',\n",
    "        func=wikipedia.run,\n",
    "        description='Useful for when you need to get information from wikipedia about a topic'\n",
    "    )\n",
    "]"
   ]
  },
  {
   "cell_type": "code",
   "execution_count": null,
   "metadata": {},
   "outputs": [],
   "source": [
    "agent_executor = initialize_agent(tools, llm, agent='zero-shot-react-description', verbose=True)"
   ]
  },
  {
   "cell_type": "code",
   "execution_count": null,
   "metadata": {},
   "outputs": [],
   "source": [
    "output = agent_executor.run('Can you please provide a short summary of Nigeria Constitution')"
   ]
  },
  {
   "cell_type": "code",
   "execution_count": null,
   "metadata": {},
   "outputs": [],
   "source": [
    "print(output)"
   ]
  }
 ],
 "metadata": {
  "kernelspec": {
   "display_name": "Python 3",
   "language": "python",
   "name": "python3"
  },
  "language_info": {
   "codemirror_mode": {
    "name": "ipython",
    "version": 3
   },
   "file_extension": ".py",
   "mimetype": "text/x-python",
   "name": "python",
   "nbconvert_exporter": "python",
   "pygments_lexer": "ipython3",
   "version": "3.11.8"
  }
 },
 "nbformat": 4,
 "nbformat_minor": 2
}
